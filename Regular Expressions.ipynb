{
 "cells": [
  {
   "cell_type": "markdown",
   "id": "c98979d8",
   "metadata": {},
   "source": [
    "# Regular Expressions aka regex / re \n",
    "\n",
    "## Tiny embedded c program "
   ]
  },
  {
   "cell_type": "code",
   "execution_count": 1,
   "id": "84fa91ca",
   "metadata": {},
   "outputs": [],
   "source": [
    "import re "
   ]
  },
  {
   "cell_type": "code",
   "execution_count": 2,
   "id": "8d1917cd",
   "metadata": {},
   "outputs": [
    {
     "data": {
      "text/plain": [
       "<module 're' from 'c:\\\\users\\\\soman\\\\appdata\\\\local\\\\programs\\\\python\\\\python39\\\\lib\\\\re.py'>"
      ]
     },
     "execution_count": 2,
     "metadata": {},
     "output_type": "execute_result"
    }
   ],
   "source": [
    "re"
   ]
  },
  {
   "cell_type": "markdown",
   "id": "ce68fde6",
   "metadata": {},
   "source": [
    "` Steps involved ` \n",
    "\n",
    "` 1 . import re  `\n",
    "\n",
    "` 2 . Create a pattern which you want to search for `\n",
    "\n",
    "`3. Use the re functions to do the needful `\n"
   ]
  },
  {
   "cell_type": "code",
   "execution_count": 3,
   "id": "21616642",
   "metadata": {},
   "outputs": [
    {
     "name": "stdout",
     "output_type": "stream",
     "text": [
      "<re.Match object; span=(10, 11), match='4'>\n",
      "4\n"
     ]
    }
   ],
   "source": [
    "import re \n",
    "pattern = r'\\d' # digit\n",
    "msg = 'My age is 42'\n",
    "result = re.search(pattern,msg)\n",
    "print(result)\n",
    "print(result.group())\n"
   ]
  },
  {
   "cell_type": "code",
   "execution_count": 4,
   "id": "c073ca79",
   "metadata": {},
   "outputs": [
    {
     "name": "stdout",
     "output_type": "stream",
     "text": [
      "<re.Match object; span=(10, 11), match='4'>\n"
     ]
    }
   ],
   "source": [
    "import re \n",
    "pattern = r'\\d' # digit\n",
    "msg = 'My age is 42'\n",
    "result = re.search(pattern,msg)\n",
    "print(result)\n",
    "# print(result.group())\n",
    "\n"
   ]
  },
  {
   "cell_type": "code",
   "execution_count": 5,
   "id": "0c90bf4d",
   "metadata": {},
   "outputs": [
    {
     "name": "stdout",
     "output_type": "stream",
     "text": [
      "['__class__', '__class_getitem__', '__copy__', '__deepcopy__', '__delattr__', '__dir__', '__doc__', '__eq__', '__format__', '__ge__', '__getattribute__', '__getitem__', '__gt__', '__hash__', '__init__', '__init_subclass__', '__le__', '__lt__', '__ne__', '__new__', '__reduce__', '__reduce_ex__', '__repr__', '__setattr__', '__sizeof__', '__str__', '__subclasshook__', 'end', 'endpos', 'expand', 'group', 'groupdict', 'groups', 'lastgroup', 'lastindex', 'pos', 're', 'regs', 'span', 'start', 'string']\n"
     ]
    }
   ],
   "source": [
    "print(dir(result))"
   ]
  },
  {
   "cell_type": "code",
   "execution_count": 6,
   "id": "4a027318",
   "metadata": {},
   "outputs": [
    {
     "name": "stdout",
     "output_type": "stream",
     "text": [
      "['A', 'ASCII', 'DEBUG', 'DOTALL', 'I', 'IGNORECASE', 'L', 'LOCALE', 'M', 'MULTILINE', 'Match', 'Pattern', 'RegexFlag', 'S', 'Scanner', 'T', 'TEMPLATE', 'U', 'UNICODE', 'VERBOSE', 'X', '_MAXCACHE', '__all__', '__builtins__', '__cached__', '__doc__', '__file__', '__loader__', '__name__', '__package__', '__spec__', '__version__', '_cache', '_compile', '_compile_repl', '_expand', '_locale', '_pickle', '_special_chars_map', '_subx', 'compile', 'copyreg', 'enum', 'error', 'escape', 'findall', 'finditer', 'fullmatch', 'functools', 'match', 'purge', 'search', 'split', 'sre_compile', 'sre_parse', 'sub', 'subn', 'template']\n"
     ]
    }
   ],
   "source": [
    "print(dir(re))"
   ]
  },
  {
   "cell_type": "code",
   "execution_count": 7,
   "id": "f935de5b",
   "metadata": {},
   "outputs": [
    {
     "name": "stdout",
     "output_type": "stream",
     "text": [
      "<re.Match object; span=(10, 12), match='42'>\n"
     ]
    }
   ],
   "source": [
    "import re \n",
    "pattern = r'\\d\\d' # digit\n",
    "msg = 'My age is 42'\n",
    "result = re.search(pattern,msg)\n",
    "print(result)\n",
    "# print(result.group())\n"
   ]
  },
  {
   "cell_type": "code",
   "execution_count": 8,
   "id": "c5db793e",
   "metadata": {},
   "outputs": [
    {
     "data": {
      "text/plain": [
       "'42'"
      ]
     },
     "execution_count": 8,
     "metadata": {},
     "output_type": "execute_result"
    }
   ],
   "source": [
    "result.group()"
   ]
  },
  {
   "cell_type": "code",
   "execution_count": 9,
   "id": "61e330d4",
   "metadata": {},
   "outputs": [
    {
     "data": {
      "text/plain": [
       "<function Match.span(group=0, /)>"
      ]
     },
     "execution_count": 9,
     "metadata": {},
     "output_type": "execute_result"
    }
   ],
   "source": [
    "result.span"
   ]
  },
  {
   "cell_type": "code",
   "execution_count": 10,
   "id": "b690ec56",
   "metadata": {},
   "outputs": [
    {
     "data": {
      "text/plain": [
       "(10, 12)"
      ]
     },
     "execution_count": 10,
     "metadata": {},
     "output_type": "execute_result"
    }
   ],
   "source": [
    "result.span()"
   ]
  },
  {
   "cell_type": "code",
   "execution_count": 12,
   "id": "acf11b03",
   "metadata": {},
   "outputs": [
    {
     "name": "stdout",
     "output_type": "stream",
     "text": [
      "<re.Match object; span=(10, 12), match='42'>\n",
      "42\n"
     ]
    }
   ],
   "source": [
    "import re \n",
    "pattern = r'\\d+' # digit\n",
    "msg = 'My age is 42'\n",
    "result = re.search(pattern,msg)\n",
    "print(result)\n",
    "print(result.group())"
   ]
  },
  {
   "cell_type": "markdown",
   "id": "3563932b",
   "metadata": {},
   "source": [
    "`create a string. Give any random phone numbers and some text. Find the phone number using the re module `"
   ]
  },
  {
   "cell_type": "code",
   "execution_count": 15,
   "id": "bc5b6a26",
   "metadata": {},
   "outputs": [
    {
     "name": "stdout",
     "output_type": "stream",
     "text": [
      "821063552264748947\n"
     ]
    }
   ],
   "source": [
    "pattern = r'\\d+'\n",
    "msg = 'Hello your name is xyz and phone number is 821063552264748947'\n",
    "result = re.search(pattern,msg)\n",
    "print(result.group())"
   ]
  },
  {
   "cell_type": "code",
   "execution_count": 16,
   "id": "aad71f2f",
   "metadata": {},
   "outputs": [
    {
     "name": "stdout",
     "output_type": "stream",
     "text": [
      "821\n"
     ]
    }
   ],
   "source": [
    "pattern = r'\\d..'\n",
    "msg = 'Hello your name is xyz and phone number is 821063552264748947'\n",
    "result = re.search(pattern,msg)\n",
    "print(result.group())"
   ]
  },
  {
   "cell_type": "code",
   "execution_count": 20,
   "id": "52e1d456",
   "metadata": {},
   "outputs": [
    {
     "name": "stdout",
     "output_type": "stream",
     "text": [
      "My age is \n"
     ]
    }
   ],
   "source": [
    "pattern = r'\\D+'\n",
    "msg = 'My age is 25 and my number is 8747484987'\n",
    "result = re.search(pattern,msg)\n",
    "print(result.group())"
   ]
  },
  {
   "cell_type": "code",
   "execution_count": 23,
   "id": "43f458c4",
   "metadata": {},
   "outputs": [],
   "source": [
    "msg = 'Hey my mail id is somani.classes@outlook.com'\n",
    "pattern = r'\\w+'\n",
    "result = re.search(pattern,msg)\n"
   ]
  },
  {
   "cell_type": "code",
   "execution_count": 24,
   "id": "e58f9a08",
   "metadata": {},
   "outputs": [
    {
     "data": {
      "text/plain": [
       "<re.Match object; span=(0, 3), match='Hey'>"
      ]
     },
     "execution_count": 24,
     "metadata": {},
     "output_type": "execute_result"
    }
   ],
   "source": [
    "result"
   ]
  },
  {
   "cell_type": "code",
   "execution_count": 25,
   "id": "48e7b60d",
   "metadata": {},
   "outputs": [],
   "source": [
    "msg = 'Hey my mail id is somani.classes@outlook.com'\n",
    "pattern = r'\\w+\\.\\w+'\n",
    "result = re.search(pattern,msg)\n"
   ]
  },
  {
   "cell_type": "code",
   "execution_count": 26,
   "id": "7d09ef4d",
   "metadata": {},
   "outputs": [
    {
     "data": {
      "text/plain": [
       "<re.Match object; span=(18, 32), match='somani.classes'>"
      ]
     },
     "execution_count": 26,
     "metadata": {},
     "output_type": "execute_result"
    }
   ],
   "source": [
    "result"
   ]
  },
  {
   "cell_type": "code",
   "execution_count": 29,
   "id": "2261bfe4",
   "metadata": {},
   "outputs": [],
   "source": [
    "msg = 'Hey my mail id is somani.classes@outlook.com'\n",
    "pattern = r'\\w+\\.\\w+@\\w+\\.\\w+'\n",
    "result = re.search(pattern,msg)\n"
   ]
  },
  {
   "cell_type": "code",
   "execution_count": 30,
   "id": "c9257060",
   "metadata": {},
   "outputs": [
    {
     "data": {
      "text/plain": [
       "<re.Match object; span=(18, 44), match='somani.classes@outlook.com'>"
      ]
     },
     "execution_count": 30,
     "metadata": {},
     "output_type": "execute_result"
    }
   ],
   "source": [
    "result"
   ]
  },
  {
   "cell_type": "code",
   "execution_count": 33,
   "id": "f54480bc",
   "metadata": {},
   "outputs": [],
   "source": [
    "msg = 'This is . what he says'\n",
    "pattern = r'\\.'\n",
    "result = re.search(pattern,msg)\n"
   ]
  },
  {
   "cell_type": "code",
   "execution_count": 34,
   "id": "9dd8b8b0",
   "metadata": {},
   "outputs": [
    {
     "data": {
      "text/plain": [
       "<re.Match object; span=(8, 9), match='.'>"
      ]
     },
     "execution_count": 34,
     "metadata": {},
     "output_type": "execute_result"
    }
   ],
   "source": [
    "result"
   ]
  },
  {
   "cell_type": "code",
   "execution_count": 35,
   "id": "dc00db6c",
   "metadata": {},
   "outputs": [
    {
     "data": {
      "text/plain": [
       "'.'"
      ]
     },
     "execution_count": 35,
     "metadata": {},
     "output_type": "execute_result"
    }
   ],
   "source": [
    "result.group()"
   ]
  },
  {
   "cell_type": "markdown",
   "id": "40be2e19",
   "metadata": {},
   "source": [
    "# Character class\n"
   ]
  },
  {
   "cell_type": "code",
   "execution_count": 36,
   "id": "95c644b8",
   "metadata": {},
   "outputs": [
    {
     "name": "stdout",
     "output_type": "stream",
     "text": [
      "<re.Match object; span=(0, 1), match='I'> I\n"
     ]
    }
   ],
   "source": [
    "arvind_msg = 'I will be late for the dinner.'\n",
    "pattern = r'[A-Z]'\n",
    "result = re.search(pattern,arvind_msg)\n",
    "print(result,result.group())"
   ]
  },
  {
   "cell_type": "code",
   "execution_count": 37,
   "id": "8509d5a5",
   "metadata": {},
   "outputs": [
    {
     "name": "stdout",
     "output_type": "stream",
     "text": [
      "<re.Match object; span=(0, 1), match='I'> I\n"
     ]
    }
   ],
   "source": [
    "arvind_msg = 'I will be late for the dinner.'\n",
    "pattern = r'[a-zA-Z]+'\n",
    "result = re.search(pattern,arvind_msg)\n",
    "print(result,result.group())"
   ]
  },
  {
   "cell_type": "code",
   "execution_count": 38,
   "id": "5f5c030b",
   "metadata": {},
   "outputs": [
    {
     "name": "stdout",
     "output_type": "stream",
     "text": [
      "<re.Match object; span=(12, 13), match='8'>\n"
     ]
    }
   ],
   "source": [
    "pattern = r'[0-9]'\n",
    "msg = 'Hello world 878'\n",
    "res = re.search(pattern,msg)\n",
    "print(res)"
   ]
  },
  {
   "cell_type": "code",
   "execution_count": 41,
   "id": "980920b7",
   "metadata": {},
   "outputs": [
    {
     "name": "stdout",
     "output_type": "stream",
     "text": [
      "<re.Match object; span=(12, 16), match='8988'>\n"
     ]
    }
   ],
   "source": [
    "pattern = r'[0-9]+'\n",
    "msg = 'Hello world 8988'\n",
    "res = re.search(pattern,msg)\n",
    "print(res)"
   ]
  },
  {
   "cell_type": "markdown",
   "id": "b623c5e4",
   "metadata": {},
   "source": [
    "[Abc]  will match either 'A' 'b' or 'c'\n",
    "[AEIOU]"
   ]
  },
  {
   "cell_type": "code",
   "execution_count": 43,
   "id": "e70f51ec",
   "metadata": {},
   "outputs": [
    {
     "name": "stdout",
     "output_type": "stream",
     "text": [
      "<re.Match object; span=(13, 14), match='?'>\n"
     ]
    }
   ],
   "source": [
    "text = 'This is life ?'\n",
    "pattern = r'\\?'\n",
    "result = re.search(pattern,text)\n",
    "print(result)\n"
   ]
  },
  {
   "cell_type": "code",
   "execution_count": 44,
   "id": "f4ec7c73",
   "metadata": {},
   "outputs": [
    {
     "name": "stdout",
     "output_type": "stream",
     "text": [
      "<re.Match object; span=(4, 5), match=' '>\n"
     ]
    }
   ],
   "source": [
    "text = 'This is life ?'\n",
    "pattern = r'\\s'\n",
    "result = re.search(pattern,text)\n",
    "print(result)\n"
   ]
  },
  {
   "cell_type": "code",
   "execution_count": 45,
   "id": "17fef1d2",
   "metadata": {},
   "outputs": [
    {
     "name": "stdout",
     "output_type": "stream",
     "text": [
      "<re.Match object; span=(4, 5), match=' '>\n"
     ]
    }
   ],
   "source": [
    "text = 'This is life ?'\n",
    "pattern = r'\\s+'\n",
    "result = re.search(pattern,text)\n",
    "print(result)\n"
   ]
  },
  {
   "cell_type": "markdown",
   "id": "bc482804",
   "metadata": {},
   "source": [
    "# Inverting a charcter class\n",
    "\n",
    "` syntax : [^0-9] means all but excluding 0-9 `"
   ]
  },
  {
   "cell_type": "code",
   "execution_count": 46,
   "id": "2b5967cd",
   "metadata": {},
   "outputs": [],
   "source": [
    "msg = '123 this is life 567'\n",
    "pattern = r'[^0-9]'\n",
    "result = re.search(pattern,msg)\n"
   ]
  },
  {
   "cell_type": "code",
   "execution_count": 47,
   "id": "507d1525",
   "metadata": {},
   "outputs": [
    {
     "data": {
      "text/plain": [
       "<re.Match object; span=(3, 4), match=' '>"
      ]
     },
     "execution_count": 47,
     "metadata": {},
     "output_type": "execute_result"
    }
   ],
   "source": [
    "result"
   ]
  },
  {
   "cell_type": "code",
   "execution_count": 48,
   "id": "ab1f509b",
   "metadata": {},
   "outputs": [],
   "source": [
    "msg = '123 this is life 567'\n",
    "pattern = r'[^a-z]'\n",
    "result = re.search(pattern,msg)\n"
   ]
  },
  {
   "cell_type": "code",
   "execution_count": 49,
   "id": "d0e2932a",
   "metadata": {},
   "outputs": [
    {
     "data": {
      "text/plain": [
       "<re.Match object; span=(0, 1), match='1'>"
      ]
     },
     "execution_count": 49,
     "metadata": {},
     "output_type": "execute_result"
    }
   ],
   "source": [
    "result"
   ]
  },
  {
   "cell_type": "markdown",
   "id": "ccf4fc3b",
   "metadata": {},
   "source": [
    "# ^ : - The carret symbol \n",
    "\n",
    "` It matches the beginning of a string `"
   ]
  },
  {
   "cell_type": "code",
   "execution_count": 50,
   "id": "d4ac31ee",
   "metadata": {},
   "outputs": [],
   "source": [
    "msg = 'This is life 007'\n",
    "pattern = r'^This'\n",
    "result = re.search(pattern,msg)\n"
   ]
  },
  {
   "cell_type": "code",
   "execution_count": 51,
   "id": "7944cd7a",
   "metadata": {},
   "outputs": [
    {
     "data": {
      "text/plain": [
       "<re.Match object; span=(0, 4), match='This'>"
      ]
     },
     "execution_count": 51,
     "metadata": {},
     "output_type": "execute_result"
    }
   ],
   "source": [
    "result"
   ]
  },
  {
   "cell_type": "code",
   "execution_count": 54,
   "id": "6d13eaf0",
   "metadata": {},
   "outputs": [],
   "source": [
    "msg = 'This is life 007'\n",
    "pattern = r'^Th'\n",
    "result = re.search(pattern,msg)\n"
   ]
  },
  {
   "cell_type": "code",
   "execution_count": 55,
   "id": "29b19331",
   "metadata": {},
   "outputs": [
    {
     "data": {
      "text/plain": [
       "<re.Match object; span=(0, 2), match='Th'>"
      ]
     },
     "execution_count": 55,
     "metadata": {},
     "output_type": "execute_result"
    }
   ],
   "source": [
    "result"
   ]
  },
  {
   "cell_type": "markdown",
   "id": "a40640c8",
   "metadata": {},
   "source": [
    "# $ : \n",
    "\n",
    "` Syntax : 'end$' `"
   ]
  },
  {
   "cell_type": "code",
   "execution_count": 58,
   "id": "5f314dba",
   "metadata": {},
   "outputs": [],
   "source": [
    "msg = 'This is life 007'\n",
    "pattern = r'07$'\n",
    "result = re.search(pattern,msg)"
   ]
  },
  {
   "cell_type": "code",
   "execution_count": 59,
   "id": "af7373aa",
   "metadata": {},
   "outputs": [
    {
     "data": {
      "text/plain": [
       "<re.Match object; span=(14, 16), match='07'>"
      ]
     },
     "execution_count": 59,
     "metadata": {},
     "output_type": "execute_result"
    }
   ],
   "source": [
    "result"
   ]
  },
  {
   "cell_type": "markdown",
   "id": "fb164bcd",
   "metadata": {},
   "source": [
    "# Dot . will match for any single character ( excluding a new line character)\n",
    "# Plus (+) will match for one or more occurences of the pattern \n",
    "# Start (*) will match for zero or more occurences \n",
    "\n",
    "` Example: ab*c will match abbc,abc,ac `"
   ]
  },
  {
   "cell_type": "code",
   "execution_count": 78,
   "id": "7b659499",
   "metadata": {},
   "outputs": [],
   "source": [
    "msg = 'This is my number '\n",
    "pattern = r'n?m'\n",
    "result = re.search(pattern,msg)\n"
   ]
  },
  {
   "cell_type": "code",
   "execution_count": 79,
   "id": "9d309c37",
   "metadata": {},
   "outputs": [
    {
     "data": {
      "text/plain": [
       "<re.Match object; span=(8, 9), match='m'>"
      ]
     },
     "execution_count": 79,
     "metadata": {},
     "output_type": "execute_result"
    }
   ],
   "source": [
    "result"
   ]
  },
  {
   "cell_type": "code",
   "execution_count": 80,
   "id": "d2bedeac",
   "metadata": {},
   "outputs": [
    {
     "name": "stdout",
     "output_type": "stream",
     "text": [
      "['A', 'ASCII', 'DEBUG', 'DOTALL', 'I', 'IGNORECASE', 'L', 'LOCALE', 'M', 'MULTILINE', 'Match', 'Pattern', 'RegexFlag', 'S', 'Scanner', 'T', 'TEMPLATE', 'U', 'UNICODE', 'VERBOSE', 'X', '_MAXCACHE', '__all__', '__builtins__', '__cached__', '__doc__', '__file__', '__loader__', '__name__', '__package__', '__spec__', '__version__', '_cache', '_compile', '_compile_repl', '_expand', '_locale', '_pickle', '_special_chars_map', '_subx', 'compile', 'copyreg', 'enum', 'error', 'escape', 'findall', 'finditer', 'fullmatch', 'functools', 'match', 'purge', 'search', 'split', 'sre_compile', 'sre_parse', 'sub', 'subn', 'template']\n"
     ]
    }
   ],
   "source": [
    "print(dir(re))"
   ]
  },
  {
   "cell_type": "code",
   "execution_count": 81,
   "id": "5212fccb",
   "metadata": {},
   "outputs": [
    {
     "data": {
      "text/plain": [
       "<function re.findall(pattern, string, flags=0)>"
      ]
     },
     "execution_count": 81,
     "metadata": {},
     "output_type": "execute_result"
    }
   ],
   "source": [
    "re.findall"
   ]
  },
  {
   "cell_type": "code",
   "execution_count": 82,
   "id": "44260d52",
   "metadata": {},
   "outputs": [
    {
     "name": "stdout",
     "output_type": "stream",
     "text": [
      "Help on function findall in module re:\n",
      "\n",
      "findall(pattern, string, flags=0)\n",
      "    Return a list of all non-overlapping matches in the string.\n",
      "    \n",
      "    If one or more capturing groups are present in the pattern, return\n",
      "    a list of groups; this will be a list of tuples if the pattern\n",
      "    has more than one group.\n",
      "    \n",
      "    Empty matches are included in the result.\n",
      "\n"
     ]
    }
   ],
   "source": [
    "help(re.findall)"
   ]
  },
  {
   "cell_type": "code",
   "execution_count": 84,
   "id": "5ef037a4",
   "metadata": {},
   "outputs": [
    {
     "name": "stdout",
     "output_type": "stream",
     "text": [
      "Return a list of all non-overlapping matches in the string.\n",
      "\n",
      "    If one or more capturing groups are present in the pattern, return\n",
      "    a list of groups; this will be a list of tuples if the pattern\n",
      "    has more than one group.\n",
      "\n",
      "    Empty matches are included in the result.\n"
     ]
    }
   ],
   "source": [
    "print(re.findall.__doc__)"
   ]
  },
  {
   "cell_type": "code",
   "execution_count": 85,
   "id": "8f882b09",
   "metadata": {},
   "outputs": [],
   "source": [
    "msg = 'This is my number'\n",
    "pattern = r'\\S+'\n",
    "result = re.findall(pattern,msg)\n"
   ]
  },
  {
   "cell_type": "code",
   "execution_count": 86,
   "id": "86fc2b7f",
   "metadata": {},
   "outputs": [
    {
     "data": {
      "text/plain": [
       "['This', 'is', 'my', 'number']"
      ]
     },
     "execution_count": 86,
     "metadata": {},
     "output_type": "execute_result"
    }
   ],
   "source": [
    "result"
   ]
  },
  {
   "cell_type": "code",
   "execution_count": 87,
   "id": "6204e7d8",
   "metadata": {},
   "outputs": [
    {
     "name": "stdout",
     "output_type": "stream",
     "text": [
      "This\n",
      "is\n",
      "my\n",
      "number\n"
     ]
    }
   ],
   "source": [
    "for i in result:\n",
    "    print(i)"
   ]
  },
  {
   "cell_type": "code",
   "execution_count": 91,
   "id": "9521a665",
   "metadata": {},
   "outputs": [
    {
     "name": "stdout",
     "output_type": "stream",
     "text": [
      "8747484987\n"
     ]
    }
   ],
   "source": [
    "pattern = r'\\d{10}'\n",
    "msg = 'My age is and my number is 87474849877493749'\n",
    "result = re.search(pattern,msg)\n",
    "print(result.group())"
   ]
  },
  {
   "cell_type": "code",
   "execution_count": 92,
   "id": "6420fbbb",
   "metadata": {},
   "outputs": [],
   "source": [
    "msg = 'This is my number'\n",
    "pattern = r'\\S+'\n",
    "result = re.finditer(pattern,msg)\n"
   ]
  },
  {
   "cell_type": "code",
   "execution_count": 93,
   "id": "2dc50d50",
   "metadata": {},
   "outputs": [
    {
     "data": {
      "text/plain": [
       "<callable_iterator at 0x1fc7cef9df0>"
      ]
     },
     "execution_count": 93,
     "metadata": {},
     "output_type": "execute_result"
    }
   ],
   "source": [
    "result"
   ]
  },
  {
   "cell_type": "code",
   "execution_count": 94,
   "id": "14ecaa16",
   "metadata": {},
   "outputs": [
    {
     "name": "stdout",
     "output_type": "stream",
     "text": [
      "This\n",
      "is\n",
      "my\n",
      "number\n"
     ]
    }
   ],
   "source": [
    "for record in result:\n",
    "    print(record.group())"
   ]
  },
  {
   "cell_type": "code",
   "execution_count": 95,
   "id": "9192bd60",
   "metadata": {},
   "outputs": [
    {
     "name": "stdout",
     "output_type": "stream",
     "text": [
      "['A', 'ASCII', 'DEBUG', 'DOTALL', 'I', 'IGNORECASE', 'L', 'LOCALE', 'M', 'MULTILINE', 'Match', 'Pattern', 'RegexFlag', 'S', 'Scanner', 'T', 'TEMPLATE', 'U', 'UNICODE', 'VERBOSE', 'X', '_MAXCACHE', '__all__', '__builtins__', '__cached__', '__doc__', '__file__', '__loader__', '__name__', '__package__', '__spec__', '__version__', '_cache', '_compile', '_compile_repl', '_expand', '_locale', '_pickle', '_special_chars_map', '_subx', 'compile', 'copyreg', 'enum', 'error', 'escape', 'findall', 'finditer', 'fullmatch', 'functools', 'match', 'purge', 'search', 'split', 'sre_compile', 'sre_parse', 'sub', 'subn', 'template']\n"
     ]
    }
   ],
   "source": [
    "print(dir(re))"
   ]
  },
  {
   "cell_type": "code",
   "execution_count": 96,
   "id": "a78e1b7f",
   "metadata": {},
   "outputs": [
    {
     "data": {
      "text/plain": [
       "re.IGNORECASE"
      ]
     },
     "execution_count": 96,
     "metadata": {},
     "output_type": "execute_result"
    }
   ],
   "source": [
    "re.IGNORECASE"
   ]
  },
  {
   "cell_type": "code",
   "execution_count": 98,
   "id": "7ea788b2",
   "metadata": {},
   "outputs": [],
   "source": [
    "compiled_pattern = re.compile(r'\\w')\n",
    "text = \"\"\"\n",
    "         hey! My name is Ali\n",
    "         My Email is xyz@abc.com\n",
    "         reach me at 777897\n",
    "         alterntively drop a mail at supports@abc.com\n",
    "        \"\"\"\n",
    "\n",
    "result = re.findall(compiled_pattern,text)"
   ]
  },
  {
   "cell_type": "code",
   "execution_count": 100,
   "id": "3950d9ff",
   "metadata": {},
   "outputs": [
    {
     "name": "stdout",
     "output_type": "stream",
     "text": [
      "['h', 'e', 'y', 'M', 'y', 'n', 'a', 'm', 'e', 'i', 's', 'A', 'l', 'i', 'M', 'y', 'E', 'm', 'a', 'i', 'l', 'i', 's', 'x', 'y', 'z', 'a', 'b', 'c', 'c', 'o', 'm', 'r', 'e', 'a', 'c', 'h', 'm', 'e', 'a', 't', '7', '7', '7', '8', '9', '7', 'a', 'l', 't', 'e', 'r', 'n', 't', 'i', 'v', 'e', 'l', 'y', 'd', 'r', 'o', 'p', 'a', 'm', 'a', 'i', 'l', 'a', 't', 's', 'u', 'p', 'p', 'o', 'r', 't', 's', 'a', 'b', 'c', 'c', 'o', 'm']\n"
     ]
    }
   ],
   "source": [
    "print(result)"
   ]
  },
  {
   "cell_type": "code",
   "execution_count": 101,
   "id": "608f0263",
   "metadata": {},
   "outputs": [
    {
     "data": {
      "text/plain": [
       "re.compile(r'\\w', re.UNICODE)"
      ]
     },
     "execution_count": 101,
     "metadata": {},
     "output_type": "execute_result"
    }
   ],
   "source": [
    "compiled_pattern"
   ]
  },
  {
   "cell_type": "code",
   "execution_count": 103,
   "id": "1d77a886",
   "metadata": {},
   "outputs": [],
   "source": [
    "compiled_pattern = re.compile(r'\\w{3}')\n",
    "text = \"\"\"\n",
    "         hey ! My name is Ali\n",
    "         My Email is xyz@abc.com\n",
    "         reach me at 777897\n",
    "         alterntively drop a mail at supports@abc.com\n",
    "        \"\"\"\n",
    "\n",
    "result = re.findall(compiled_pattern,text)"
   ]
  },
  {
   "cell_type": "code",
   "execution_count": 105,
   "id": "b0c444d9",
   "metadata": {},
   "outputs": [
    {
     "data": {
      "text/plain": [
       "\"['hey', 'nam', 'Ali', 'Ema', 'xyz', 'abc', 'com', 'rea', '777', '897', 'alt', 'ern', 'tiv', 'ely', 'dro', 'mai', 'sup', 'por', 'abc', 'com']\""
      ]
     },
     "execution_count": 105,
     "metadata": {},
     "output_type": "execute_result"
    }
   ],
   "source": [
    "str(result)"
   ]
  },
  {
   "cell_type": "code",
   "execution_count": null,
   "id": "8e424f89",
   "metadata": {},
   "outputs": [],
   "source": []
  }
 ],
 "metadata": {
  "kernelspec": {
   "display_name": "Python 3",
   "language": "python",
   "name": "python3"
  },
  "language_info": {
   "codemirror_mode": {
    "name": "ipython",
    "version": 3
   },
   "file_extension": ".py",
   "mimetype": "text/x-python",
   "name": "python",
   "nbconvert_exporter": "python",
   "pygments_lexer": "ipython3",
   "version": "3.9.6"
  }
 },
 "nbformat": 4,
 "nbformat_minor": 5
}
