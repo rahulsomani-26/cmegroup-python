{
 "cells": [
  {
   "cell_type": "markdown",
   "id": "a110b97f",
   "metadata": {},
   "source": [
    "# Functions "
   ]
  },
  {
   "cell_type": "code",
   "execution_count": 1,
   "id": "617b85a4",
   "metadata": {},
   "outputs": [],
   "source": [
    "def just_func():\n",
    "    print('Hey you are within a function')"
   ]
  },
  {
   "cell_type": "code",
   "execution_count": 2,
   "id": "a1907a69",
   "metadata": {},
   "outputs": [
    {
     "data": {
      "text/plain": [
       "<function __main__.just_func()>"
      ]
     },
     "execution_count": 2,
     "metadata": {},
     "output_type": "execute_result"
    }
   ],
   "source": [
    "just_func"
   ]
  },
  {
   "cell_type": "code",
   "execution_count": 3,
   "id": "7f265d27",
   "metadata": {},
   "outputs": [
    {
     "name": "stdout",
     "output_type": "stream",
     "text": [
      "Help on function just_func in module __main__:\n",
      "\n",
      "just_func()\n",
      "\n"
     ]
    }
   ],
   "source": [
    "help(just_func)"
   ]
  },
  {
   "cell_type": "code",
   "execution_count": 4,
   "id": "20803642",
   "metadata": {},
   "outputs": [
    {
     "name": "stdout",
     "output_type": "stream",
     "text": [
      "Hey you are within a function\n"
     ]
    }
   ],
   "source": [
    "just_func()"
   ]
  },
  {
   "cell_type": "code",
   "execution_count": 5,
   "id": "9f6f63ff",
   "metadata": {},
   "outputs": [
    {
     "data": {
      "text/plain": [
       "1680740867952"
      ]
     },
     "execution_count": 5,
     "metadata": {},
     "output_type": "execute_result"
    }
   ],
   "source": [
    "id(just_func)"
   ]
  },
  {
   "cell_type": "code",
   "execution_count": 6,
   "id": "e2a4a8bb",
   "metadata": {},
   "outputs": [
    {
     "name": "stdout",
     "output_type": "stream",
     "text": [
      "['__annotations__', '__call__', '__class__', '__closure__', '__code__', '__defaults__', '__delattr__', '__dict__', '__dir__', '__doc__', '__eq__', '__format__', '__ge__', '__get__', '__getattribute__', '__globals__', '__gt__', '__hash__', '__init__', '__init_subclass__', '__kwdefaults__', '__le__', '__lt__', '__module__', '__name__', '__ne__', '__new__', '__qualname__', '__reduce__', '__reduce_ex__', '__repr__', '__setattr__', '__sizeof__', '__str__', '__subclasshook__']\n"
     ]
    }
   ],
   "source": [
    "print(dir(just_func))"
   ]
  },
  {
   "cell_type": "code",
   "execution_count": 8,
   "id": "e5cb3058",
   "metadata": {},
   "outputs": [
    {
     "data": {
      "text/plain": [
       "{}"
      ]
     },
     "execution_count": 8,
     "metadata": {},
     "output_type": "execute_result"
    }
   ],
   "source": [
    "just_func.__dict__"
   ]
  },
  {
   "cell_type": "code",
   "execution_count": 9,
   "id": "6ee71da6",
   "metadata": {},
   "outputs": [],
   "source": [
    "def my_func():\n",
    "    a = 10 \n",
    "    b = 20 \n",
    "    return a+b"
   ]
  },
  {
   "cell_type": "code",
   "execution_count": 10,
   "id": "2b05cbdb",
   "metadata": {},
   "outputs": [
    {
     "data": {
      "text/plain": [
       "30"
      ]
     },
     "execution_count": 10,
     "metadata": {},
     "output_type": "execute_result"
    }
   ],
   "source": [
    "my_func()"
   ]
  },
  {
   "cell_type": "code",
   "execution_count": 11,
   "id": "62587e73",
   "metadata": {},
   "outputs": [
    {
     "data": {
      "text/plain": [
       "{}"
      ]
     },
     "execution_count": 11,
     "metadata": {},
     "output_type": "execute_result"
    }
   ],
   "source": [
    "my_func.__dict__"
   ]
  },
  {
   "cell_type": "code",
   "execution_count": 12,
   "id": "6cd0ca0d",
   "metadata": {},
   "outputs": [],
   "source": [
    "def my_func(a,b):\n",
    "    return a+b"
   ]
  },
  {
   "cell_type": "code",
   "execution_count": 13,
   "id": "786a928d",
   "metadata": {},
   "outputs": [
    {
     "data": {
      "text/plain": [
       "50"
      ]
     },
     "execution_count": 13,
     "metadata": {},
     "output_type": "execute_result"
    }
   ],
   "source": [
    "my_func(20,30)"
   ]
  },
  {
   "cell_type": "code",
   "execution_count": 14,
   "id": "b80e0e7d",
   "metadata": {},
   "outputs": [
    {
     "data": {
      "text/plain": [
       "{}"
      ]
     },
     "execution_count": 14,
     "metadata": {},
     "output_type": "execute_result"
    }
   ],
   "source": [
    "my_func.__dict__"
   ]
  },
  {
   "cell_type": "code",
   "execution_count": 15,
   "id": "220ee87c",
   "metadata": {},
   "outputs": [
    {
     "data": {
      "text/plain": [
       "<code object my_func at 0x0000018754052450, file \"<ipython-input-12-2ffeeceb3fd4>\", line 1>"
      ]
     },
     "execution_count": 15,
     "metadata": {},
     "output_type": "execute_result"
    }
   ],
   "source": [
    "my_func.__code__"
   ]
  },
  {
   "cell_type": "code",
   "execution_count": 18,
   "id": "5eac46b1",
   "metadata": {},
   "outputs": [
    {
     "name": "stdout",
     "output_type": "stream",
     "text": [
      "['__class__', '__delattr__', '__dir__', '__doc__', '__eq__', '__format__', '__ge__', '__getattribute__', '__gt__', '__hash__', '__init__', '__init_subclass__', '__le__', '__lt__', '__ne__', '__new__', '__reduce__', '__reduce_ex__', '__repr__', '__setattr__', '__sizeof__', '__str__', '__subclasshook__', 'co_argcount', 'co_cellvars', 'co_code', 'co_consts', 'co_filename', 'co_firstlineno', 'co_flags', 'co_freevars', 'co_kwonlyargcount', 'co_lnotab', 'co_name', 'co_names', 'co_nlocals', 'co_posonlyargcount', 'co_stacksize', 'co_varnames', 'replace']\n"
     ]
    }
   ],
   "source": [
    "print(dir(my_func.__code__))"
   ]
  },
  {
   "cell_type": "code",
   "execution_count": 19,
   "id": "0fb28435",
   "metadata": {},
   "outputs": [
    {
     "data": {
      "text/plain": [
       "()"
      ]
     },
     "execution_count": 19,
     "metadata": {},
     "output_type": "execute_result"
    }
   ],
   "source": [
    "my_func.__code__.co_names"
   ]
  },
  {
   "cell_type": "code",
   "execution_count": 20,
   "id": "87dbc80a",
   "metadata": {},
   "outputs": [
    {
     "data": {
      "text/plain": [
       "'my_func'"
      ]
     },
     "execution_count": 20,
     "metadata": {},
     "output_type": "execute_result"
    }
   ],
   "source": [
    "my_func.__code__.co_name"
   ]
  },
  {
   "cell_type": "code",
   "execution_count": 21,
   "id": "6b0c73c9",
   "metadata": {},
   "outputs": [
    {
     "data": {
      "text/plain": [
       "('a', 'b')"
      ]
     },
     "execution_count": 21,
     "metadata": {},
     "output_type": "execute_result"
    }
   ],
   "source": [
    "my_func.__code__.co_varnames"
   ]
  },
  {
   "cell_type": "code",
   "execution_count": 22,
   "id": "67475b6d",
   "metadata": {},
   "outputs": [],
   "source": [
    "def my_new_func(a:int,b:int)->'Returns the sum of a and b':\n",
    "    print('within {}'.format(__name__))\n",
    "    return a+b"
   ]
  },
  {
   "cell_type": "code",
   "execution_count": 23,
   "id": "c4cf2ab6",
   "metadata": {},
   "outputs": [
    {
     "data": {
      "text/plain": [
       "<function __main__.my_new_func(a: int, b: int) -> 'Returns the sum of a and b'>"
      ]
     },
     "execution_count": 23,
     "metadata": {},
     "output_type": "execute_result"
    }
   ],
   "source": [
    "my_new_func"
   ]
  },
  {
   "cell_type": "code",
   "execution_count": 24,
   "id": "5d4bd837",
   "metadata": {},
   "outputs": [
    {
     "data": {
      "text/plain": [
       "{'a': int, 'b': int, 'return': 'Returns the sum of a and b'}"
      ]
     },
     "execution_count": 24,
     "metadata": {},
     "output_type": "execute_result"
    }
   ],
   "source": [
    "my_new_func.__annotations__"
   ]
  },
  {
   "cell_type": "code",
   "execution_count": 25,
   "id": "c019895f",
   "metadata": {},
   "outputs": [
    {
     "name": "stdout",
     "output_type": "stream",
     "text": [
      "Help on function my_new_func in module __main__:\n",
      "\n",
      "my_new_func(a: int, b: int) -> 'Returns the sum of a and b'\n",
      "\n"
     ]
    }
   ],
   "source": [
    "help(my_new_func)"
   ]
  },
  {
   "cell_type": "code",
   "execution_count": 26,
   "id": "46db226d",
   "metadata": {},
   "outputs": [],
   "source": [
    "def do_something(a,b):\n",
    "    return a+b"
   ]
  },
  {
   "cell_type": "code",
   "execution_count": 27,
   "id": "da2027a2",
   "metadata": {},
   "outputs": [
    {
     "data": {
      "text/plain": [
       "3"
      ]
     },
     "execution_count": 27,
     "metadata": {},
     "output_type": "execute_result"
    }
   ],
   "source": [
    "do_something(1,2)"
   ]
  },
  {
   "cell_type": "code",
   "execution_count": 28,
   "id": "ddd0da06",
   "metadata": {},
   "outputs": [
    {
     "ename": "TypeError",
     "evalue": "unsupported operand type(s) for +: 'int' and 'str'",
     "output_type": "error",
     "traceback": [
      "\u001b[1;31m---------------------------------------------------------------------------\u001b[0m",
      "\u001b[1;31mTypeError\u001b[0m                                 Traceback (most recent call last)",
      "\u001b[1;32m<ipython-input-28-b232202cb43f>\u001b[0m in \u001b[0;36m<module>\u001b[1;34m\u001b[0m\n\u001b[1;32m----> 1\u001b[1;33m \u001b[0mdo_something\u001b[0m\u001b[1;33m(\u001b[0m\u001b[1;36m1\u001b[0m\u001b[1;33m,\u001b[0m\u001b[1;34m'a'\u001b[0m\u001b[1;33m)\u001b[0m\u001b[1;33m\u001b[0m\u001b[1;33m\u001b[0m\u001b[0m\n\u001b[0m",
      "\u001b[1;32m<ipython-input-26-cd991aedd80c>\u001b[0m in \u001b[0;36mdo_something\u001b[1;34m(a, b)\u001b[0m\n\u001b[0;32m      1\u001b[0m \u001b[1;32mdef\u001b[0m \u001b[0mdo_something\u001b[0m\u001b[1;33m(\u001b[0m\u001b[0ma\u001b[0m\u001b[1;33m,\u001b[0m\u001b[0mb\u001b[0m\u001b[1;33m)\u001b[0m\u001b[1;33m:\u001b[0m\u001b[1;33m\u001b[0m\u001b[1;33m\u001b[0m\u001b[0m\n\u001b[1;32m----> 2\u001b[1;33m     \u001b[1;32mreturn\u001b[0m \u001b[0ma\u001b[0m\u001b[1;33m+\u001b[0m\u001b[0mb\u001b[0m\u001b[1;33m\u001b[0m\u001b[1;33m\u001b[0m\u001b[0m\n\u001b[0m",
      "\u001b[1;31mTypeError\u001b[0m: unsupported operand type(s) for +: 'int' and 'str'"
     ]
    }
   ],
   "source": [
    "do_something(1,'a')"
   ]
  },
  {
   "cell_type": "code",
   "execution_count": 29,
   "id": "87db1215",
   "metadata": {},
   "outputs": [
    {
     "name": "stdout",
     "output_type": "stream",
     "text": [
      "Help on function do_something in module __main__:\n",
      "\n",
      "do_something(a, b)\n",
      "\n"
     ]
    }
   ],
   "source": [
    "help(do_something)"
   ]
  },
  {
   "cell_type": "code",
   "execution_count": 30,
   "id": "d5aa1266",
   "metadata": {},
   "outputs": [],
   "source": [
    "def my_func(seq:'iterable')->'Returns the sum of the iterable':\n",
    "    \"\"\">>>my_func([1,2,3])\n",
    "       >>>6 \n",
    "    \"\"\"\n",
    "    return sum(seq)"
   ]
  },
  {
   "cell_type": "code",
   "execution_count": 31,
   "id": "807ff82b",
   "metadata": {},
   "outputs": [
    {
     "name": "stdout",
     "output_type": "stream",
     "text": [
      "Help on function my_func in module __main__:\n",
      "\n",
      "my_func(seq: 'iterable') -> 'Returns the sum of the iterable'\n",
      "    >>>my_func([1,2,3])\n",
      "    >>>6\n",
      "\n"
     ]
    }
   ],
   "source": [
    "help(my_func)"
   ]
  },
  {
   "cell_type": "code",
   "execution_count": 32,
   "id": "7adc55d6",
   "metadata": {},
   "outputs": [
    {
     "data": {
      "text/plain": [
       "1"
      ]
     },
     "execution_count": 32,
     "metadata": {},
     "output_type": "execute_result"
    }
   ],
   "source": [
    "my_func.__code__.co_argcount"
   ]
  },
  {
   "cell_type": "code",
   "execution_count": 34,
   "id": "ca719939",
   "metadata": {},
   "outputs": [
    {
     "data": {
      "text/plain": [
       "6"
      ]
     },
     "execution_count": 34,
     "metadata": {},
     "output_type": "execute_result"
    }
   ],
   "source": [
    "my_func((1,2,3))"
   ]
  },
  {
   "cell_type": "code",
   "execution_count": 35,
   "id": "7bc02966",
   "metadata": {},
   "outputs": [],
   "source": [
    "my_func.version = '1.0.0'\n",
    "my_func.author = 'Arvind'"
   ]
  },
  {
   "cell_type": "code",
   "execution_count": 36,
   "id": "56f5d77a",
   "metadata": {},
   "outputs": [
    {
     "data": {
      "text/plain": [
       "6"
      ]
     },
     "execution_count": 36,
     "metadata": {},
     "output_type": "execute_result"
    }
   ],
   "source": [
    "my_func((1,2,3))"
   ]
  },
  {
   "cell_type": "code",
   "execution_count": 37,
   "id": "925897d8",
   "metadata": {},
   "outputs": [
    {
     "data": {
      "text/plain": [
       "{'version': '1.0.0', 'author': 'Arvind'}"
      ]
     },
     "execution_count": 37,
     "metadata": {},
     "output_type": "execute_result"
    }
   ],
   "source": [
    "my_func.__dict__"
   ]
  },
  {
   "cell_type": "code",
   "execution_count": 38,
   "id": "c89a0982",
   "metadata": {},
   "outputs": [
    {
     "data": {
      "text/plain": [
       "'1.0.0'"
      ]
     },
     "execution_count": 38,
     "metadata": {},
     "output_type": "execute_result"
    }
   ],
   "source": [
    "my_func.version"
   ]
  },
  {
   "cell_type": "code",
   "execution_count": 39,
   "id": "e6e36f3b",
   "metadata": {},
   "outputs": [
    {
     "data": {
      "text/plain": [
       "'1.0.0'"
      ]
     },
     "execution_count": 39,
     "metadata": {},
     "output_type": "execute_result"
    }
   ],
   "source": [
    "my_func.__dict__['version']"
   ]
  },
  {
   "cell_type": "code",
   "execution_count": 42,
   "id": "a8cd9910",
   "metadata": {},
   "outputs": [],
   "source": [
    "def add(a,b):\n",
    "    print('Hey within {}'.format(__name__))\n",
    "    return a+b\n"
   ]
  },
  {
   "cell_type": "code",
   "execution_count": 43,
   "id": "47557dba",
   "metadata": {},
   "outputs": [
    {
     "name": "stdout",
     "output_type": "stream",
     "text": [
      "Hey within __main__\n"
     ]
    },
    {
     "data": {
      "text/plain": [
       "5"
      ]
     },
     "execution_count": 43,
     "metadata": {},
     "output_type": "execute_result"
    }
   ],
   "source": [
    "add(2,3)"
   ]
  },
  {
   "cell_type": "code",
   "execution_count": 44,
   "id": "339ef7bf",
   "metadata": {},
   "outputs": [],
   "source": [
    "def test():\n",
    "    return 'hello test'"
   ]
  },
  {
   "cell_type": "code",
   "execution_count": 45,
   "id": "9deacfd9",
   "metadata": {},
   "outputs": [],
   "source": [
    "add.t = test"
   ]
  },
  {
   "cell_type": "code",
   "execution_count": 46,
   "id": "aca3bdd8",
   "metadata": {},
   "outputs": [
    {
     "data": {
      "text/plain": [
       "{'t': <function __main__.test()>}"
      ]
     },
     "execution_count": 46,
     "metadata": {},
     "output_type": "execute_result"
    }
   ],
   "source": [
    "add.__dict__"
   ]
  },
  {
   "cell_type": "code",
   "execution_count": 47,
   "id": "65b867de",
   "metadata": {},
   "outputs": [
    {
     "data": {
      "text/plain": [
       "<function __main__.test()>"
      ]
     },
     "execution_count": 47,
     "metadata": {},
     "output_type": "execute_result"
    }
   ],
   "source": [
    "add.t"
   ]
  },
  {
   "cell_type": "code",
   "execution_count": 48,
   "id": "610ec5bc",
   "metadata": {},
   "outputs": [
    {
     "data": {
      "text/plain": [
       "'hello test'"
      ]
     },
     "execution_count": 48,
     "metadata": {},
     "output_type": "execute_result"
    }
   ],
   "source": [
    "add.t()"
   ]
  },
  {
   "cell_type": "code",
   "execution_count": 49,
   "id": "1952ab89",
   "metadata": {},
   "outputs": [],
   "source": [
    "fun=add.__dict__['t']"
   ]
  },
  {
   "cell_type": "code",
   "execution_count": 50,
   "id": "fa4742f2",
   "metadata": {},
   "outputs": [
    {
     "data": {
      "text/plain": [
       "<function __main__.test()>"
      ]
     },
     "execution_count": 50,
     "metadata": {},
     "output_type": "execute_result"
    }
   ],
   "source": [
    "fun"
   ]
  },
  {
   "cell_type": "code",
   "execution_count": 51,
   "id": "2f7340ba",
   "metadata": {},
   "outputs": [
    {
     "data": {
      "text/plain": [
       "'hello test'"
      ]
     },
     "execution_count": 51,
     "metadata": {},
     "output_type": "execute_result"
    }
   ],
   "source": [
    "fun()"
   ]
  },
  {
   "cell_type": "markdown",
   "id": "ac7d58d8",
   "metadata": {},
   "source": [
    "lambda "
   ]
  },
  {
   "cell_type": "code",
   "execution_count": 53,
   "id": "69a684ff",
   "metadata": {},
   "outputs": [
    {
     "data": {
      "text/plain": [
       "<function __main__.<lambda>(x)>"
      ]
     },
     "execution_count": 53,
     "metadata": {},
     "output_type": "execute_result"
    }
   ],
   "source": [
    "lambda x:x+10"
   ]
  },
  {
   "cell_type": "code",
   "execution_count": 54,
   "id": "1c0239be",
   "metadata": {},
   "outputs": [],
   "source": [
    "f = lambda x:x+10"
   ]
  },
  {
   "cell_type": "code",
   "execution_count": 55,
   "id": "48e755e3",
   "metadata": {},
   "outputs": [
    {
     "data": {
      "text/plain": [
       "<function __main__.<lambda>(x)>"
      ]
     },
     "execution_count": 55,
     "metadata": {},
     "output_type": "execute_result"
    }
   ],
   "source": [
    "f"
   ]
  },
  {
   "cell_type": "code",
   "execution_count": 56,
   "id": "62550f06",
   "metadata": {},
   "outputs": [
    {
     "data": {
      "text/plain": [
       "30"
      ]
     },
     "execution_count": 56,
     "metadata": {},
     "output_type": "execute_result"
    }
   ],
   "source": [
    "f(20)"
   ]
  },
  {
   "cell_type": "code",
   "execution_count": 57,
   "id": "829fcbe9",
   "metadata": {},
   "outputs": [],
   "source": [
    "f= lambda a,b:a*b"
   ]
  },
  {
   "cell_type": "code",
   "execution_count": 58,
   "id": "71c538c4",
   "metadata": {},
   "outputs": [
    {
     "data": {
      "text/plain": [
       "<function __main__.<lambda>(a, b)>"
      ]
     },
     "execution_count": 58,
     "metadata": {},
     "output_type": "execute_result"
    }
   ],
   "source": [
    "f"
   ]
  },
  {
   "cell_type": "code",
   "execution_count": 59,
   "id": "27aa78cc",
   "metadata": {},
   "outputs": [
    {
     "data": {
      "text/plain": [
       "200"
      ]
     },
     "execution_count": 59,
     "metadata": {},
     "output_type": "execute_result"
    }
   ],
   "source": [
    "f(10,20)"
   ]
  },
  {
   "cell_type": "code",
   "execution_count": 63,
   "id": "977b5cca",
   "metadata": {},
   "outputs": [],
   "source": [
    "r = lambda : 'hello world'"
   ]
  },
  {
   "cell_type": "code",
   "execution_count": 64,
   "id": "578090d2",
   "metadata": {},
   "outputs": [
    {
     "data": {
      "text/plain": [
       "'hello world'"
      ]
     },
     "execution_count": 64,
     "metadata": {},
     "output_type": "execute_result"
    }
   ],
   "source": [
    "r()"
   ]
  },
  {
   "cell_type": "code",
   "execution_count": 65,
   "id": "f1a598cc",
   "metadata": {},
   "outputs": [
    {
     "ename": "TypeError",
     "evalue": "<lambda>() takes 0 positional arguments but 1 was given",
     "output_type": "error",
     "traceback": [
      "\u001b[1;31m---------------------------------------------------------------------------\u001b[0m",
      "\u001b[1;31mTypeError\u001b[0m                                 Traceback (most recent call last)",
      "\u001b[1;32m<ipython-input-65-6ea72d815ff5>\u001b[0m in \u001b[0;36m<module>\u001b[1;34m\u001b[0m\n\u001b[1;32m----> 1\u001b[1;33m \u001b[0mr\u001b[0m\u001b[1;33m(\u001b[0m\u001b[1;36m2\u001b[0m\u001b[1;33m)\u001b[0m\u001b[1;33m\u001b[0m\u001b[1;33m\u001b[0m\u001b[0m\n\u001b[0m",
      "\u001b[1;31mTypeError\u001b[0m: <lambda>() takes 0 positional arguments but 1 was given"
     ]
    }
   ],
   "source": [
    "r(2)"
   ]
  },
  {
   "cell_type": "code",
   "execution_count": 68,
   "id": "93a46a3b",
   "metadata": {},
   "outputs": [],
   "source": [
    "f = lambda x: None"
   ]
  },
  {
   "cell_type": "code",
   "execution_count": 69,
   "id": "84088f5b",
   "metadata": {},
   "outputs": [],
   "source": [
    "f(10)"
   ]
  },
  {
   "cell_type": "code",
   "execution_count": 71,
   "id": "f76c66a6",
   "metadata": {},
   "outputs": [],
   "source": [
    "pass\n"
   ]
  },
  {
   "cell_type": "code",
   "execution_count": 72,
   "id": "790aa5a8",
   "metadata": {},
   "outputs": [],
   "source": [
    "def myfunc():\n",
    "    pass"
   ]
  },
  {
   "cell_type": "code",
   "execution_count": 73,
   "id": "a6f66c69",
   "metadata": {},
   "outputs": [
    {
     "ename": "IndentationError",
     "evalue": "expected an indented block (<ipython-input-73-d3a9967fd35f>, line 1)",
     "output_type": "error",
     "traceback": [
      "\u001b[1;36m  File \u001b[1;32m\"<ipython-input-73-d3a9967fd35f>\"\u001b[1;36m, line \u001b[1;32m1\u001b[0m\n\u001b[1;33m    def func():\u001b[0m\n\u001b[1;37m               ^\u001b[0m\n\u001b[1;31mIndentationError\u001b[0m\u001b[1;31m:\u001b[0m expected an indented block\n"
     ]
    }
   ],
   "source": [
    "def func():"
   ]
  },
  {
   "cell_type": "code",
   "execution_count": 74,
   "id": "55d8cf0a",
   "metadata": {},
   "outputs": [],
   "source": [
    "def func():\n",
    "    \"\"\"Doc string\"\"\""
   ]
  },
  {
   "cell_type": "code",
   "execution_count": 75,
   "id": "22c915bf",
   "metadata": {},
   "outputs": [],
   "source": [
    "func()"
   ]
  },
  {
   "cell_type": "code",
   "execution_count": 76,
   "id": "bc4cf430",
   "metadata": {},
   "outputs": [],
   "source": [
    "name = 'Arvind'\n",
    "age = 25\n",
    "def my_func():\n",
    "    print(name,age)"
   ]
  },
  {
   "cell_type": "code",
   "execution_count": 77,
   "id": "96b6518b",
   "metadata": {},
   "outputs": [
    {
     "name": "stdout",
     "output_type": "stream",
     "text": [
      "Arvind 25\n"
     ]
    }
   ],
   "source": [
    "my_func()"
   ]
  },
  {
   "cell_type": "code",
   "execution_count": 78,
   "id": "b5fd62f6",
   "metadata": {},
   "outputs": [
    {
     "data": {
      "text/plain": [
       "{'__name__': '__main__',\n",
       " '__doc__': 'Automatically created module for IPython interactive environment',\n",
       " '__package__': None,\n",
       " '__loader__': None,\n",
       " '__spec__': None,\n",
       " '__builtin__': <module 'builtins' (built-in)>,\n",
       " '__builtins__': <module 'builtins' (built-in)>,\n",
       " '_ih': ['',\n",
       "  \"def just_func():\\n    print('Hey you are within a function')\",\n",
       "  'just_func',\n",
       "  'help(just_func)',\n",
       "  'just_func()',\n",
       "  'id(just_func)',\n",
       "  'print(dir(just_func))',\n",
       "  'just_func.__dict__()',\n",
       "  'just_func.__dict__',\n",
       "  'def my_func():\\n    a = 10 \\n    b = 20 \\n    return a+b',\n",
       "  'my_func()',\n",
       "  'my_func.__dict__',\n",
       "  'def my_func(a,b):\\n    return a+b',\n",
       "  'my_func(20,30)',\n",
       "  'my_func.__dict__',\n",
       "  'my_func.__code__',\n",
       "  'dir(my_func.__code__)',\n",
       "  'print(dir(my_func.__code__))|',\n",
       "  'print(dir(my_func.__code__))',\n",
       "  'my_func.__code__.co_names',\n",
       "  'my_func.__code__.co_name',\n",
       "  'my_func.__code__.co_varnames',\n",
       "  \"def my_new_func(a:int,b:int)->'Returns the sum of a and b':\\n    print('within {}'.format(__name__))\\n    return a+b\",\n",
       "  'my_new_func',\n",
       "  'my_new_func.__annotations__',\n",
       "  'help(my_new_func)',\n",
       "  'def do_something(a,b):\\n    return a+b',\n",
       "  'do_something(1,2)',\n",
       "  \"do_something(1,'a')\",\n",
       "  'help(do_something)',\n",
       "  'def my_func(seq:\\'iterable\\')->\\'Returns the sum of the iterable\\':\\n    \"\"\">>>my_func([1,2,3])\\n       >>>6 \\n    \"\"\"\\n    return sum(seq)',\n",
       "  'help(my_func)',\n",
       "  'my_func.__code__.co_argcount',\n",
       "  'my_func()',\n",
       "  'my_func((1,2,3))',\n",
       "  \"my_func.version = '1.0.0'\\nmy_func.author = 'Arvind'\",\n",
       "  'my_func((1,2,3))',\n",
       "  'my_func.__dict__',\n",
       "  'my_func.version',\n",
       "  \"my_func.__dict__['version']\",\n",
       "  \"def add(a,b):\\n    print('Hey within {}'.format(__class__))\\n    return a+b\",\n",
       "  'add(2,3)',\n",
       "  \"def add(a,b):\\n    print('Hey within {}'.format(__name__))\\n    return a+b\",\n",
       "  'add(2,3)',\n",
       "  \"def test():\\n    return 'hello test'\",\n",
       "  'add.t = test',\n",
       "  'add.__dict__',\n",
       "  'add.t',\n",
       "  'add.t()',\n",
       "  \"fun=add.__dict__['t']\",\n",
       "  'fun',\n",
       "  'fun()',\n",
       "  'lambda',\n",
       "  'lambda x:x+10',\n",
       "  'f = lambda x:x+10',\n",
       "  'f',\n",
       "  'f(20)',\n",
       "  'f= lambda a,b:a*b',\n",
       "  'f',\n",
       "  'f(10,20)',\n",
       "  \"r = lambda : 'hello world'\",\n",
       "  'r()',\n",
       "  'r(2)',\n",
       "  \"r = lambda : 'hello world'\",\n",
       "  'r()',\n",
       "  'r(2)',\n",
       "  'f = lambda x: \"\"',\n",
       "  'f(10)',\n",
       "  'f = lambda x: None',\n",
       "  'f(10)',\n",
       "  'f = lambda x:',\n",
       "  'pass',\n",
       "  'def myfunc():\\n    pass',\n",
       "  'def func():',\n",
       "  'def func():\\n    \"\"\"Doc string\"\"\"',\n",
       "  'func()',\n",
       "  \"name = 'Arvind'\\nage = 25\\ndef my_func():\\n    print(name,age)\",\n",
       "  'my_func()',\n",
       "  'globals()'],\n",
       " '_oh': {2: <function __main__.just_func()>,\n",
       "  5: 1680740867952,\n",
       "  8: {},\n",
       "  10: 30,\n",
       "  11: {},\n",
       "  13: 50,\n",
       "  14: {},\n",
       "  15: <code object my_func at 0x0000018754052450, file \"<ipython-input-12-2ffeeceb3fd4>\", line 1>,\n",
       "  16: ['__class__',\n",
       "   '__delattr__',\n",
       "   '__dir__',\n",
       "   '__doc__',\n",
       "   '__eq__',\n",
       "   '__format__',\n",
       "   '__ge__',\n",
       "   '__getattribute__',\n",
       "   '__gt__',\n",
       "   '__hash__',\n",
       "   '__init__',\n",
       "   '__init_subclass__',\n",
       "   '__le__',\n",
       "   '__lt__',\n",
       "   '__ne__',\n",
       "   '__new__',\n",
       "   '__reduce__',\n",
       "   '__reduce_ex__',\n",
       "   '__repr__',\n",
       "   '__setattr__',\n",
       "   '__sizeof__',\n",
       "   '__str__',\n",
       "   '__subclasshook__',\n",
       "   'co_argcount',\n",
       "   'co_cellvars',\n",
       "   'co_code',\n",
       "   'co_consts',\n",
       "   'co_filename',\n",
       "   'co_firstlineno',\n",
       "   'co_flags',\n",
       "   'co_freevars',\n",
       "   'co_kwonlyargcount',\n",
       "   'co_lnotab',\n",
       "   'co_name',\n",
       "   'co_names',\n",
       "   'co_nlocals',\n",
       "   'co_posonlyargcount',\n",
       "   'co_stacksize',\n",
       "   'co_varnames',\n",
       "   'replace'],\n",
       "  19: (),\n",
       "  20: 'my_func',\n",
       "  21: ('a', 'b'),\n",
       "  23: <function __main__.my_new_func(a: int, b: int) -> 'Returns the sum of a and b'>,\n",
       "  24: {'a': int, 'b': int, 'return': 'Returns the sum of a and b'},\n",
       "  27: 3,\n",
       "  32: 1,\n",
       "  34: 6,\n",
       "  36: 6,\n",
       "  37: {'version': '1.0.0', 'author': 'Arvind'},\n",
       "  38: '1.0.0',\n",
       "  39: '1.0.0',\n",
       "  43: 5,\n",
       "  46: {'t': <function __main__.test()>},\n",
       "  47: <function __main__.test()>,\n",
       "  48: 'hello test',\n",
       "  50: <function __main__.test()>,\n",
       "  51: 'hello test',\n",
       "  53: <function __main__.<lambda>(x)>,\n",
       "  55: <function __main__.<lambda>(x)>,\n",
       "  56: 30,\n",
       "  58: <function __main__.<lambda>(a, b)>,\n",
       "  59: 200,\n",
       "  61: 'hello world',\n",
       "  64: 'hello world',\n",
       "  67: ''},\n",
       " '_dh': ['C:\\\\Users\\\\soman\\\\cmepython\\\\Day 2'],\n",
       " 'In': ['',\n",
       "  \"def just_func():\\n    print('Hey you are within a function')\",\n",
       "  'just_func',\n",
       "  'help(just_func)',\n",
       "  'just_func()',\n",
       "  'id(just_func)',\n",
       "  'print(dir(just_func))',\n",
       "  'just_func.__dict__()',\n",
       "  'just_func.__dict__',\n",
       "  'def my_func():\\n    a = 10 \\n    b = 20 \\n    return a+b',\n",
       "  'my_func()',\n",
       "  'my_func.__dict__',\n",
       "  'def my_func(a,b):\\n    return a+b',\n",
       "  'my_func(20,30)',\n",
       "  'my_func.__dict__',\n",
       "  'my_func.__code__',\n",
       "  'dir(my_func.__code__)',\n",
       "  'print(dir(my_func.__code__))|',\n",
       "  'print(dir(my_func.__code__))',\n",
       "  'my_func.__code__.co_names',\n",
       "  'my_func.__code__.co_name',\n",
       "  'my_func.__code__.co_varnames',\n",
       "  \"def my_new_func(a:int,b:int)->'Returns the sum of a and b':\\n    print('within {}'.format(__name__))\\n    return a+b\",\n",
       "  'my_new_func',\n",
       "  'my_new_func.__annotations__',\n",
       "  'help(my_new_func)',\n",
       "  'def do_something(a,b):\\n    return a+b',\n",
       "  'do_something(1,2)',\n",
       "  \"do_something(1,'a')\",\n",
       "  'help(do_something)',\n",
       "  'def my_func(seq:\\'iterable\\')->\\'Returns the sum of the iterable\\':\\n    \"\"\">>>my_func([1,2,3])\\n       >>>6 \\n    \"\"\"\\n    return sum(seq)',\n",
       "  'help(my_func)',\n",
       "  'my_func.__code__.co_argcount',\n",
       "  'my_func()',\n",
       "  'my_func((1,2,3))',\n",
       "  \"my_func.version = '1.0.0'\\nmy_func.author = 'Arvind'\",\n",
       "  'my_func((1,2,3))',\n",
       "  'my_func.__dict__',\n",
       "  'my_func.version',\n",
       "  \"my_func.__dict__['version']\",\n",
       "  \"def add(a,b):\\n    print('Hey within {}'.format(__class__))\\n    return a+b\",\n",
       "  'add(2,3)',\n",
       "  \"def add(a,b):\\n    print('Hey within {}'.format(__name__))\\n    return a+b\",\n",
       "  'add(2,3)',\n",
       "  \"def test():\\n    return 'hello test'\",\n",
       "  'add.t = test',\n",
       "  'add.__dict__',\n",
       "  'add.t',\n",
       "  'add.t()',\n",
       "  \"fun=add.__dict__['t']\",\n",
       "  'fun',\n",
       "  'fun()',\n",
       "  'lambda',\n",
       "  'lambda x:x+10',\n",
       "  'f = lambda x:x+10',\n",
       "  'f',\n",
       "  'f(20)',\n",
       "  'f= lambda a,b:a*b',\n",
       "  'f',\n",
       "  'f(10,20)',\n",
       "  \"r = lambda : 'hello world'\",\n",
       "  'r()',\n",
       "  'r(2)',\n",
       "  \"r = lambda : 'hello world'\",\n",
       "  'r()',\n",
       "  'r(2)',\n",
       "  'f = lambda x: \"\"',\n",
       "  'f(10)',\n",
       "  'f = lambda x: None',\n",
       "  'f(10)',\n",
       "  'f = lambda x:',\n",
       "  'pass',\n",
       "  'def myfunc():\\n    pass',\n",
       "  'def func():',\n",
       "  'def func():\\n    \"\"\"Doc string\"\"\"',\n",
       "  'func()',\n",
       "  \"name = 'Arvind'\\nage = 25\\ndef my_func():\\n    print(name,age)\",\n",
       "  'my_func()',\n",
       "  'globals()'],\n",
       " 'Out': {2: <function __main__.just_func()>,\n",
       "  5: 1680740867952,\n",
       "  8: {},\n",
       "  10: 30,\n",
       "  11: {},\n",
       "  13: 50,\n",
       "  14: {},\n",
       "  15: <code object my_func at 0x0000018754052450, file \"<ipython-input-12-2ffeeceb3fd4>\", line 1>,\n",
       "  16: ['__class__',\n",
       "   '__delattr__',\n",
       "   '__dir__',\n",
       "   '__doc__',\n",
       "   '__eq__',\n",
       "   '__format__',\n",
       "   '__ge__',\n",
       "   '__getattribute__',\n",
       "   '__gt__',\n",
       "   '__hash__',\n",
       "   '__init__',\n",
       "   '__init_subclass__',\n",
       "   '__le__',\n",
       "   '__lt__',\n",
       "   '__ne__',\n",
       "   '__new__',\n",
       "   '__reduce__',\n",
       "   '__reduce_ex__',\n",
       "   '__repr__',\n",
       "   '__setattr__',\n",
       "   '__sizeof__',\n",
       "   '__str__',\n",
       "   '__subclasshook__',\n",
       "   'co_argcount',\n",
       "   'co_cellvars',\n",
       "   'co_code',\n",
       "   'co_consts',\n",
       "   'co_filename',\n",
       "   'co_firstlineno',\n",
       "   'co_flags',\n",
       "   'co_freevars',\n",
       "   'co_kwonlyargcount',\n",
       "   'co_lnotab',\n",
       "   'co_name',\n",
       "   'co_names',\n",
       "   'co_nlocals',\n",
       "   'co_posonlyargcount',\n",
       "   'co_stacksize',\n",
       "   'co_varnames',\n",
       "   'replace'],\n",
       "  19: (),\n",
       "  20: 'my_func',\n",
       "  21: ('a', 'b'),\n",
       "  23: <function __main__.my_new_func(a: int, b: int) -> 'Returns the sum of a and b'>,\n",
       "  24: {'a': int, 'b': int, 'return': 'Returns the sum of a and b'},\n",
       "  27: 3,\n",
       "  32: 1,\n",
       "  34: 6,\n",
       "  36: 6,\n",
       "  37: {'version': '1.0.0', 'author': 'Arvind'},\n",
       "  38: '1.0.0',\n",
       "  39: '1.0.0',\n",
       "  43: 5,\n",
       "  46: {'t': <function __main__.test()>},\n",
       "  47: <function __main__.test()>,\n",
       "  48: 'hello test',\n",
       "  50: <function __main__.test()>,\n",
       "  51: 'hello test',\n",
       "  53: <function __main__.<lambda>(x)>,\n",
       "  55: <function __main__.<lambda>(x)>,\n",
       "  56: 30,\n",
       "  58: <function __main__.<lambda>(a, b)>,\n",
       "  59: 200,\n",
       "  61: 'hello world',\n",
       "  64: 'hello world',\n",
       "  67: ''},\n",
       " 'get_ipython': <bound method InteractiveShell.get_ipython of <ipykernel.zmqshell.ZMQInteractiveShell object at 0x0000018753EDE760>>,\n",
       " 'exit': <IPython.core.autocall.ZMQExitAutocall at 0x18753ede8b0>,\n",
       " 'quit': <IPython.core.autocall.ZMQExitAutocall at 0x18753ede8b0>,\n",
       " '_': '',\n",
       " '__': 'hello world',\n",
       " '___': 'hello world',\n",
       " '_i': 'my_func()',\n",
       " '_ii': \"name = 'Arvind'\\nage = 25\\ndef my_func():\\n    print(name,age)\",\n",
       " '_iii': 'func()',\n",
       " '_i1': \"def just_func():\\n    print('Hey you are within a function')\",\n",
       " 'just_func': <function __main__.just_func()>,\n",
       " '_i2': 'just_func',\n",
       " '_2': <function __main__.just_func()>,\n",
       " '_i3': 'help(just_func)',\n",
       " '_i4': 'just_func()',\n",
       " '_i5': 'id(just_func)',\n",
       " '_5': 1680740867952,\n",
       " '_i6': 'print(dir(just_func))',\n",
       " '_i7': 'just_func.__dict__()',\n",
       " '_i8': 'just_func.__dict__',\n",
       " '_8': {},\n",
       " '_i9': 'def my_func():\\n    a = 10 \\n    b = 20 \\n    return a+b',\n",
       " 'my_func': <function __main__.my_func()>,\n",
       " '_i10': 'my_func()',\n",
       " '_10': 30,\n",
       " '_i11': 'my_func.__dict__',\n",
       " '_11': {},\n",
       " '_i12': 'def my_func(a,b):\\n    return a+b',\n",
       " '_i13': 'my_func(20,30)',\n",
       " '_13': 50,\n",
       " '_i14': 'my_func.__dict__',\n",
       " '_14': {},\n",
       " '_i15': 'my_func.__code__',\n",
       " '_15': <code object my_func at 0x0000018754052450, file \"<ipython-input-12-2ffeeceb3fd4>\", line 1>,\n",
       " '_i16': 'dir(my_func.__code__)',\n",
       " '_16': ['__class__',\n",
       "  '__delattr__',\n",
       "  '__dir__',\n",
       "  '__doc__',\n",
       "  '__eq__',\n",
       "  '__format__',\n",
       "  '__ge__',\n",
       "  '__getattribute__',\n",
       "  '__gt__',\n",
       "  '__hash__',\n",
       "  '__init__',\n",
       "  '__init_subclass__',\n",
       "  '__le__',\n",
       "  '__lt__',\n",
       "  '__ne__',\n",
       "  '__new__',\n",
       "  '__reduce__',\n",
       "  '__reduce_ex__',\n",
       "  '__repr__',\n",
       "  '__setattr__',\n",
       "  '__sizeof__',\n",
       "  '__str__',\n",
       "  '__subclasshook__',\n",
       "  'co_argcount',\n",
       "  'co_cellvars',\n",
       "  'co_code',\n",
       "  'co_consts',\n",
       "  'co_filename',\n",
       "  'co_firstlineno',\n",
       "  'co_flags',\n",
       "  'co_freevars',\n",
       "  'co_kwonlyargcount',\n",
       "  'co_lnotab',\n",
       "  'co_name',\n",
       "  'co_names',\n",
       "  'co_nlocals',\n",
       "  'co_posonlyargcount',\n",
       "  'co_stacksize',\n",
       "  'co_varnames',\n",
       "  'replace'],\n",
       " '_i17': 'print(dir(my_func.__code__))|',\n",
       " '_i18': 'print(dir(my_func.__code__))',\n",
       " '_i19': 'my_func.__code__.co_names',\n",
       " '_19': (),\n",
       " '_i20': 'my_func.__code__.co_name',\n",
       " '_20': 'my_func',\n",
       " '_i21': 'my_func.__code__.co_varnames',\n",
       " '_21': ('a', 'b'),\n",
       " '_i22': \"def my_new_func(a:int,b:int)->'Returns the sum of a and b':\\n    print('within {}'.format(__name__))\\n    return a+b\",\n",
       " 'my_new_func': <function __main__.my_new_func(a: int, b: int) -> 'Returns the sum of a and b'>,\n",
       " '_i23': 'my_new_func',\n",
       " '_23': <function __main__.my_new_func(a: int, b: int) -> 'Returns the sum of a and b'>,\n",
       " '_i24': 'my_new_func.__annotations__',\n",
       " '_24': {'a': int, 'b': int, 'return': 'Returns the sum of a and b'},\n",
       " '_i25': 'help(my_new_func)',\n",
       " '_i26': 'def do_something(a,b):\\n    return a+b',\n",
       " 'do_something': <function __main__.do_something(a, b)>,\n",
       " '_i27': 'do_something(1,2)',\n",
       " '_27': 3,\n",
       " '_i28': \"do_something(1,'a')\",\n",
       " '_i29': 'help(do_something)',\n",
       " '_i30': 'def my_func(seq:\\'iterable\\')->\\'Returns the sum of the iterable\\':\\n    \"\"\">>>my_func([1,2,3])\\n       >>>6 \\n    \"\"\"\\n    return sum(seq)',\n",
       " '_i31': 'help(my_func)',\n",
       " '_i32': 'my_func.__code__.co_argcount',\n",
       " '_32': 1,\n",
       " '_i33': 'my_func()',\n",
       " '_i34': 'my_func((1,2,3))',\n",
       " '_34': 6,\n",
       " '_i35': \"my_func.version = '1.0.0'\\nmy_func.author = 'Arvind'\",\n",
       " '_i36': 'my_func((1,2,3))',\n",
       " '_36': 6,\n",
       " '_i37': 'my_func.__dict__',\n",
       " '_37': {'version': '1.0.0', 'author': 'Arvind'},\n",
       " '_i38': 'my_func.version',\n",
       " '_38': '1.0.0',\n",
       " '_i39': \"my_func.__dict__['version']\",\n",
       " '_39': '1.0.0',\n",
       " '_i40': \"def add(a,b):\\n    print('Hey within {}'.format(__class__))\\n    return a+b\",\n",
       " 'add': <function __main__.add(a, b)>,\n",
       " '_i41': 'add(2,3)',\n",
       " '_i42': \"def add(a,b):\\n    print('Hey within {}'.format(__name__))\\n    return a+b\",\n",
       " '_i43': 'add(2,3)',\n",
       " '_43': 5,\n",
       " '_i44': \"def test():\\n    return 'hello test'\",\n",
       " 'test': <function __main__.test()>,\n",
       " '_i45': 'add.t = test',\n",
       " '_i46': 'add.__dict__',\n",
       " '_46': {'t': <function __main__.test()>},\n",
       " '_i47': 'add.t',\n",
       " '_47': <function __main__.test()>,\n",
       " '_i48': 'add.t()',\n",
       " '_48': 'hello test',\n",
       " '_i49': \"fun=add.__dict__['t']\",\n",
       " 'fun': <function __main__.test()>,\n",
       " '_i50': 'fun',\n",
       " '_50': <function __main__.test()>,\n",
       " '_i51': 'fun()',\n",
       " '_51': 'hello test',\n",
       " '_i52': 'lambda',\n",
       " '_i53': 'lambda x:x+10',\n",
       " '_53': <function __main__.<lambda>(x)>,\n",
       " '_i54': 'f = lambda x:x+10',\n",
       " 'f': <function __main__.<lambda>(x)>,\n",
       " '_i55': 'f',\n",
       " '_55': <function __main__.<lambda>(x)>,\n",
       " '_i56': 'f(20)',\n",
       " '_56': 30,\n",
       " '_i57': 'f= lambda a,b:a*b',\n",
       " '_i58': 'f',\n",
       " '_58': <function __main__.<lambda>(a, b)>,\n",
       " '_i59': 'f(10,20)',\n",
       " '_59': 200,\n",
       " '_i60': \"r = lambda : 'hello world'\",\n",
       " 'r': <function __main__.<lambda>()>,\n",
       " '_i61': 'r()',\n",
       " '_61': 'hello world',\n",
       " '_i62': 'r(2)',\n",
       " '_i63': \"r = lambda : 'hello world'\",\n",
       " '_i64': 'r()',\n",
       " '_64': 'hello world',\n",
       " '_i65': 'r(2)',\n",
       " '_i66': 'f = lambda x: \"\"',\n",
       " '_i67': 'f(10)',\n",
       " '_67': '',\n",
       " '_i68': 'f = lambda x: None',\n",
       " '_i69': 'f(10)',\n",
       " '_i70': 'f = lambda x:',\n",
       " '_i71': 'pass',\n",
       " '_i72': 'def myfunc():\\n    pass',\n",
       " 'myfunc': <function __main__.myfunc()>,\n",
       " '_i73': 'def func():',\n",
       " '_i74': 'def func():\\n    \"\"\"Doc string\"\"\"',\n",
       " 'func': <function __main__.func()>,\n",
       " '_i75': 'func()',\n",
       " '_i76': \"name = 'Arvind'\\nage = 25\\ndef my_func():\\n    print(name,age)\",\n",
       " 'name': 'Arvind',\n",
       " 'age': 25,\n",
       " '_i77': 'my_func()',\n",
       " '_i78': 'globals()'}"
      ]
     },
     "execution_count": 78,
     "metadata": {},
     "output_type": "execute_result"
    }
   ],
   "source": [
    "globals()"
   ]
  },
  {
   "cell_type": "code",
   "execution_count": 79,
   "id": "065ddfba",
   "metadata": {},
   "outputs": [
    {
     "ename": "NameError",
     "evalue": "name 'y' is not defined",
     "output_type": "error",
     "traceback": [
      "\u001b[1;31m---------------------------------------------------------------------------\u001b[0m",
      "\u001b[1;31mNameError\u001b[0m                                 Traceback (most recent call last)",
      "\u001b[1;32m<ipython-input-79-9063a9f0e032>\u001b[0m in \u001b[0;36m<module>\u001b[1;34m\u001b[0m\n\u001b[1;32m----> 1\u001b[1;33m \u001b[0my\u001b[0m\u001b[1;33m\u001b[0m\u001b[1;33m\u001b[0m\u001b[0m\n\u001b[0m",
      "\u001b[1;31mNameError\u001b[0m: name 'y' is not defined"
     ]
    }
   ],
   "source": [
    "y"
   ]
  },
  {
   "cell_type": "code",
   "execution_count": 80,
   "id": "9fb91544",
   "metadata": {},
   "outputs": [
    {
     "data": {
      "text/plain": [
       "25"
      ]
     },
     "execution_count": 80,
     "metadata": {},
     "output_type": "execute_result"
    }
   ],
   "source": [
    "age"
   ]
  },
  {
   "cell_type": "code",
   "execution_count": 81,
   "id": "9c0b41c6",
   "metadata": {},
   "outputs": [
    {
     "data": {
      "text/plain": [
       "'__main__'"
      ]
     },
     "execution_count": 81,
     "metadata": {},
     "output_type": "execute_result"
    }
   ],
   "source": [
    "__name__"
   ]
  },
  {
   "cell_type": "code",
   "execution_count": 82,
   "id": "b0adb6f3",
   "metadata": {},
   "outputs": [
    {
     "data": {
      "text/plain": [
       "{'__name__': '__main__',\n",
       " '__doc__': 'Automatically created module for IPython interactive environment',\n",
       " '__package__': None,\n",
       " '__loader__': None,\n",
       " '__spec__': None,\n",
       " '__builtin__': <module 'builtins' (built-in)>,\n",
       " '__builtins__': <module 'builtins' (built-in)>,\n",
       " '_ih': ['',\n",
       "  \"def just_func():\\n    print('Hey you are within a function')\",\n",
       "  'just_func',\n",
       "  'help(just_func)',\n",
       "  'just_func()',\n",
       "  'id(just_func)',\n",
       "  'print(dir(just_func))',\n",
       "  'just_func.__dict__()',\n",
       "  'just_func.__dict__',\n",
       "  'def my_func():\\n    a = 10 \\n    b = 20 \\n    return a+b',\n",
       "  'my_func()',\n",
       "  'my_func.__dict__',\n",
       "  'def my_func(a,b):\\n    return a+b',\n",
       "  'my_func(20,30)',\n",
       "  'my_func.__dict__',\n",
       "  'my_func.__code__',\n",
       "  'dir(my_func.__code__)',\n",
       "  'print(dir(my_func.__code__))|',\n",
       "  'print(dir(my_func.__code__))',\n",
       "  'my_func.__code__.co_names',\n",
       "  'my_func.__code__.co_name',\n",
       "  'my_func.__code__.co_varnames',\n",
       "  \"def my_new_func(a:int,b:int)->'Returns the sum of a and b':\\n    print('within {}'.format(__name__))\\n    return a+b\",\n",
       "  'my_new_func',\n",
       "  'my_new_func.__annotations__',\n",
       "  'help(my_new_func)',\n",
       "  'def do_something(a,b):\\n    return a+b',\n",
       "  'do_something(1,2)',\n",
       "  \"do_something(1,'a')\",\n",
       "  'help(do_something)',\n",
       "  'def my_func(seq:\\'iterable\\')->\\'Returns the sum of the iterable\\':\\n    \"\"\">>>my_func([1,2,3])\\n       >>>6 \\n    \"\"\"\\n    return sum(seq)',\n",
       "  'help(my_func)',\n",
       "  'my_func.__code__.co_argcount',\n",
       "  'my_func()',\n",
       "  'my_func((1,2,3))',\n",
       "  \"my_func.version = '1.0.0'\\nmy_func.author = 'Arvind'\",\n",
       "  'my_func((1,2,3))',\n",
       "  'my_func.__dict__',\n",
       "  'my_func.version',\n",
       "  \"my_func.__dict__['version']\",\n",
       "  \"def add(a,b):\\n    print('Hey within {}'.format(__class__))\\n    return a+b\",\n",
       "  'add(2,3)',\n",
       "  \"def add(a,b):\\n    print('Hey within {}'.format(__name__))\\n    return a+b\",\n",
       "  'add(2,3)',\n",
       "  \"def test():\\n    return 'hello test'\",\n",
       "  'add.t = test',\n",
       "  'add.__dict__',\n",
       "  'add.t',\n",
       "  'add.t()',\n",
       "  \"fun=add.__dict__['t']\",\n",
       "  'fun',\n",
       "  'fun()',\n",
       "  'lambda',\n",
       "  'lambda x:x+10',\n",
       "  'f = lambda x:x+10',\n",
       "  'f',\n",
       "  'f(20)',\n",
       "  'f= lambda a,b:a*b',\n",
       "  'f',\n",
       "  'f(10,20)',\n",
       "  \"r = lambda : 'hello world'\",\n",
       "  'r()',\n",
       "  'r(2)',\n",
       "  \"r = lambda : 'hello world'\",\n",
       "  'r()',\n",
       "  'r(2)',\n",
       "  'f = lambda x: \"\"',\n",
       "  'f(10)',\n",
       "  'f = lambda x: None',\n",
       "  'f(10)',\n",
       "  'f = lambda x:',\n",
       "  'pass',\n",
       "  'def myfunc():\\n    pass',\n",
       "  'def func():',\n",
       "  'def func():\\n    \"\"\"Doc string\"\"\"',\n",
       "  'func()',\n",
       "  \"name = 'Arvind'\\nage = 25\\ndef my_func():\\n    print(name,age)\",\n",
       "  'my_func()',\n",
       "  'globals()',\n",
       "  'y',\n",
       "  'age',\n",
       "  '__name__',\n",
       "  'locals()'],\n",
       " '_oh': {2: <function __main__.just_func()>,\n",
       "  5: 1680740867952,\n",
       "  8: {},\n",
       "  10: 30,\n",
       "  11: {},\n",
       "  13: 50,\n",
       "  14: {},\n",
       "  15: <code object my_func at 0x0000018754052450, file \"<ipython-input-12-2ffeeceb3fd4>\", line 1>,\n",
       "  16: ['__class__',\n",
       "   '__delattr__',\n",
       "   '__dir__',\n",
       "   '__doc__',\n",
       "   '__eq__',\n",
       "   '__format__',\n",
       "   '__ge__',\n",
       "   '__getattribute__',\n",
       "   '__gt__',\n",
       "   '__hash__',\n",
       "   '__init__',\n",
       "   '__init_subclass__',\n",
       "   '__le__',\n",
       "   '__lt__',\n",
       "   '__ne__',\n",
       "   '__new__',\n",
       "   '__reduce__',\n",
       "   '__reduce_ex__',\n",
       "   '__repr__',\n",
       "   '__setattr__',\n",
       "   '__sizeof__',\n",
       "   '__str__',\n",
       "   '__subclasshook__',\n",
       "   'co_argcount',\n",
       "   'co_cellvars',\n",
       "   'co_code',\n",
       "   'co_consts',\n",
       "   'co_filename',\n",
       "   'co_firstlineno',\n",
       "   'co_flags',\n",
       "   'co_freevars',\n",
       "   'co_kwonlyargcount',\n",
       "   'co_lnotab',\n",
       "   'co_name',\n",
       "   'co_names',\n",
       "   'co_nlocals',\n",
       "   'co_posonlyargcount',\n",
       "   'co_stacksize',\n",
       "   'co_varnames',\n",
       "   'replace'],\n",
       "  19: (),\n",
       "  20: 'my_func',\n",
       "  21: ('a', 'b'),\n",
       "  23: <function __main__.my_new_func(a: int, b: int) -> 'Returns the sum of a and b'>,\n",
       "  24: {'a': int, 'b': int, 'return': 'Returns the sum of a and b'},\n",
       "  27: 3,\n",
       "  32: 1,\n",
       "  34: 6,\n",
       "  36: 6,\n",
       "  37: {'version': '1.0.0', 'author': 'Arvind'},\n",
       "  38: '1.0.0',\n",
       "  39: '1.0.0',\n",
       "  43: 5,\n",
       "  46: {'t': <function __main__.test()>},\n",
       "  47: <function __main__.test()>,\n",
       "  48: 'hello test',\n",
       "  50: <function __main__.test()>,\n",
       "  51: 'hello test',\n",
       "  53: <function __main__.<lambda>(x)>,\n",
       "  55: <function __main__.<lambda>(x)>,\n",
       "  56: 30,\n",
       "  58: <function __main__.<lambda>(a, b)>,\n",
       "  59: 200,\n",
       "  61: 'hello world',\n",
       "  64: 'hello world',\n",
       "  67: '',\n",
       "  78: {...},\n",
       "  80: 25,\n",
       "  81: '__main__'},\n",
       " '_dh': ['C:\\\\Users\\\\soman\\\\cmepython\\\\Day 2'],\n",
       " 'In': ['',\n",
       "  \"def just_func():\\n    print('Hey you are within a function')\",\n",
       "  'just_func',\n",
       "  'help(just_func)',\n",
       "  'just_func()',\n",
       "  'id(just_func)',\n",
       "  'print(dir(just_func))',\n",
       "  'just_func.__dict__()',\n",
       "  'just_func.__dict__',\n",
       "  'def my_func():\\n    a = 10 \\n    b = 20 \\n    return a+b',\n",
       "  'my_func()',\n",
       "  'my_func.__dict__',\n",
       "  'def my_func(a,b):\\n    return a+b',\n",
       "  'my_func(20,30)',\n",
       "  'my_func.__dict__',\n",
       "  'my_func.__code__',\n",
       "  'dir(my_func.__code__)',\n",
       "  'print(dir(my_func.__code__))|',\n",
       "  'print(dir(my_func.__code__))',\n",
       "  'my_func.__code__.co_names',\n",
       "  'my_func.__code__.co_name',\n",
       "  'my_func.__code__.co_varnames',\n",
       "  \"def my_new_func(a:int,b:int)->'Returns the sum of a and b':\\n    print('within {}'.format(__name__))\\n    return a+b\",\n",
       "  'my_new_func',\n",
       "  'my_new_func.__annotations__',\n",
       "  'help(my_new_func)',\n",
       "  'def do_something(a,b):\\n    return a+b',\n",
       "  'do_something(1,2)',\n",
       "  \"do_something(1,'a')\",\n",
       "  'help(do_something)',\n",
       "  'def my_func(seq:\\'iterable\\')->\\'Returns the sum of the iterable\\':\\n    \"\"\">>>my_func([1,2,3])\\n       >>>6 \\n    \"\"\"\\n    return sum(seq)',\n",
       "  'help(my_func)',\n",
       "  'my_func.__code__.co_argcount',\n",
       "  'my_func()',\n",
       "  'my_func((1,2,3))',\n",
       "  \"my_func.version = '1.0.0'\\nmy_func.author = 'Arvind'\",\n",
       "  'my_func((1,2,3))',\n",
       "  'my_func.__dict__',\n",
       "  'my_func.version',\n",
       "  \"my_func.__dict__['version']\",\n",
       "  \"def add(a,b):\\n    print('Hey within {}'.format(__class__))\\n    return a+b\",\n",
       "  'add(2,3)',\n",
       "  \"def add(a,b):\\n    print('Hey within {}'.format(__name__))\\n    return a+b\",\n",
       "  'add(2,3)',\n",
       "  \"def test():\\n    return 'hello test'\",\n",
       "  'add.t = test',\n",
       "  'add.__dict__',\n",
       "  'add.t',\n",
       "  'add.t()',\n",
       "  \"fun=add.__dict__['t']\",\n",
       "  'fun',\n",
       "  'fun()',\n",
       "  'lambda',\n",
       "  'lambda x:x+10',\n",
       "  'f = lambda x:x+10',\n",
       "  'f',\n",
       "  'f(20)',\n",
       "  'f= lambda a,b:a*b',\n",
       "  'f',\n",
       "  'f(10,20)',\n",
       "  \"r = lambda : 'hello world'\",\n",
       "  'r()',\n",
       "  'r(2)',\n",
       "  \"r = lambda : 'hello world'\",\n",
       "  'r()',\n",
       "  'r(2)',\n",
       "  'f = lambda x: \"\"',\n",
       "  'f(10)',\n",
       "  'f = lambda x: None',\n",
       "  'f(10)',\n",
       "  'f = lambda x:',\n",
       "  'pass',\n",
       "  'def myfunc():\\n    pass',\n",
       "  'def func():',\n",
       "  'def func():\\n    \"\"\"Doc string\"\"\"',\n",
       "  'func()',\n",
       "  \"name = 'Arvind'\\nage = 25\\ndef my_func():\\n    print(name,age)\",\n",
       "  'my_func()',\n",
       "  'globals()',\n",
       "  'y',\n",
       "  'age',\n",
       "  '__name__',\n",
       "  'locals()'],\n",
       " 'Out': {2: <function __main__.just_func()>,\n",
       "  5: 1680740867952,\n",
       "  8: {},\n",
       "  10: 30,\n",
       "  11: {},\n",
       "  13: 50,\n",
       "  14: {},\n",
       "  15: <code object my_func at 0x0000018754052450, file \"<ipython-input-12-2ffeeceb3fd4>\", line 1>,\n",
       "  16: ['__class__',\n",
       "   '__delattr__',\n",
       "   '__dir__',\n",
       "   '__doc__',\n",
       "   '__eq__',\n",
       "   '__format__',\n",
       "   '__ge__',\n",
       "   '__getattribute__',\n",
       "   '__gt__',\n",
       "   '__hash__',\n",
       "   '__init__',\n",
       "   '__init_subclass__',\n",
       "   '__le__',\n",
       "   '__lt__',\n",
       "   '__ne__',\n",
       "   '__new__',\n",
       "   '__reduce__',\n",
       "   '__reduce_ex__',\n",
       "   '__repr__',\n",
       "   '__setattr__',\n",
       "   '__sizeof__',\n",
       "   '__str__',\n",
       "   '__subclasshook__',\n",
       "   'co_argcount',\n",
       "   'co_cellvars',\n",
       "   'co_code',\n",
       "   'co_consts',\n",
       "   'co_filename',\n",
       "   'co_firstlineno',\n",
       "   'co_flags',\n",
       "   'co_freevars',\n",
       "   'co_kwonlyargcount',\n",
       "   'co_lnotab',\n",
       "   'co_name',\n",
       "   'co_names',\n",
       "   'co_nlocals',\n",
       "   'co_posonlyargcount',\n",
       "   'co_stacksize',\n",
       "   'co_varnames',\n",
       "   'replace'],\n",
       "  19: (),\n",
       "  20: 'my_func',\n",
       "  21: ('a', 'b'),\n",
       "  23: <function __main__.my_new_func(a: int, b: int) -> 'Returns the sum of a and b'>,\n",
       "  24: {'a': int, 'b': int, 'return': 'Returns the sum of a and b'},\n",
       "  27: 3,\n",
       "  32: 1,\n",
       "  34: 6,\n",
       "  36: 6,\n",
       "  37: {'version': '1.0.0', 'author': 'Arvind'},\n",
       "  38: '1.0.0',\n",
       "  39: '1.0.0',\n",
       "  43: 5,\n",
       "  46: {'t': <function __main__.test()>},\n",
       "  47: <function __main__.test()>,\n",
       "  48: 'hello test',\n",
       "  50: <function __main__.test()>,\n",
       "  51: 'hello test',\n",
       "  53: <function __main__.<lambda>(x)>,\n",
       "  55: <function __main__.<lambda>(x)>,\n",
       "  56: 30,\n",
       "  58: <function __main__.<lambda>(a, b)>,\n",
       "  59: 200,\n",
       "  61: 'hello world',\n",
       "  64: 'hello world',\n",
       "  67: '',\n",
       "  78: {...},\n",
       "  80: 25,\n",
       "  81: '__main__'},\n",
       " 'get_ipython': <bound method InteractiveShell.get_ipython of <ipykernel.zmqshell.ZMQInteractiveShell object at 0x0000018753EDE760>>,\n",
       " 'exit': <IPython.core.autocall.ZMQExitAutocall at 0x18753ede8b0>,\n",
       " 'quit': <IPython.core.autocall.ZMQExitAutocall at 0x18753ede8b0>,\n",
       " '_': '__main__',\n",
       " '__': 25,\n",
       " '___': {...},\n",
       " '_i': '__name__',\n",
       " '_ii': 'age',\n",
       " '_iii': 'y',\n",
       " '_i1': \"def just_func():\\n    print('Hey you are within a function')\",\n",
       " 'just_func': <function __main__.just_func()>,\n",
       " '_i2': 'just_func',\n",
       " '_2': <function __main__.just_func()>,\n",
       " '_i3': 'help(just_func)',\n",
       " '_i4': 'just_func()',\n",
       " '_i5': 'id(just_func)',\n",
       " '_5': 1680740867952,\n",
       " '_i6': 'print(dir(just_func))',\n",
       " '_i7': 'just_func.__dict__()',\n",
       " '_i8': 'just_func.__dict__',\n",
       " '_8': {},\n",
       " '_i9': 'def my_func():\\n    a = 10 \\n    b = 20 \\n    return a+b',\n",
       " 'my_func': <function __main__.my_func()>,\n",
       " '_i10': 'my_func()',\n",
       " '_10': 30,\n",
       " '_i11': 'my_func.__dict__',\n",
       " '_11': {},\n",
       " '_i12': 'def my_func(a,b):\\n    return a+b',\n",
       " '_i13': 'my_func(20,30)',\n",
       " '_13': 50,\n",
       " '_i14': 'my_func.__dict__',\n",
       " '_14': {},\n",
       " '_i15': 'my_func.__code__',\n",
       " '_15': <code object my_func at 0x0000018754052450, file \"<ipython-input-12-2ffeeceb3fd4>\", line 1>,\n",
       " '_i16': 'dir(my_func.__code__)',\n",
       " '_16': ['__class__',\n",
       "  '__delattr__',\n",
       "  '__dir__',\n",
       "  '__doc__',\n",
       "  '__eq__',\n",
       "  '__format__',\n",
       "  '__ge__',\n",
       "  '__getattribute__',\n",
       "  '__gt__',\n",
       "  '__hash__',\n",
       "  '__init__',\n",
       "  '__init_subclass__',\n",
       "  '__le__',\n",
       "  '__lt__',\n",
       "  '__ne__',\n",
       "  '__new__',\n",
       "  '__reduce__',\n",
       "  '__reduce_ex__',\n",
       "  '__repr__',\n",
       "  '__setattr__',\n",
       "  '__sizeof__',\n",
       "  '__str__',\n",
       "  '__subclasshook__',\n",
       "  'co_argcount',\n",
       "  'co_cellvars',\n",
       "  'co_code',\n",
       "  'co_consts',\n",
       "  'co_filename',\n",
       "  'co_firstlineno',\n",
       "  'co_flags',\n",
       "  'co_freevars',\n",
       "  'co_kwonlyargcount',\n",
       "  'co_lnotab',\n",
       "  'co_name',\n",
       "  'co_names',\n",
       "  'co_nlocals',\n",
       "  'co_posonlyargcount',\n",
       "  'co_stacksize',\n",
       "  'co_varnames',\n",
       "  'replace'],\n",
       " '_i17': 'print(dir(my_func.__code__))|',\n",
       " '_i18': 'print(dir(my_func.__code__))',\n",
       " '_i19': 'my_func.__code__.co_names',\n",
       " '_19': (),\n",
       " '_i20': 'my_func.__code__.co_name',\n",
       " '_20': 'my_func',\n",
       " '_i21': 'my_func.__code__.co_varnames',\n",
       " '_21': ('a', 'b'),\n",
       " '_i22': \"def my_new_func(a:int,b:int)->'Returns the sum of a and b':\\n    print('within {}'.format(__name__))\\n    return a+b\",\n",
       " 'my_new_func': <function __main__.my_new_func(a: int, b: int) -> 'Returns the sum of a and b'>,\n",
       " '_i23': 'my_new_func',\n",
       " '_23': <function __main__.my_new_func(a: int, b: int) -> 'Returns the sum of a and b'>,\n",
       " '_i24': 'my_new_func.__annotations__',\n",
       " '_24': {'a': int, 'b': int, 'return': 'Returns the sum of a and b'},\n",
       " '_i25': 'help(my_new_func)',\n",
       " '_i26': 'def do_something(a,b):\\n    return a+b',\n",
       " 'do_something': <function __main__.do_something(a, b)>,\n",
       " '_i27': 'do_something(1,2)',\n",
       " '_27': 3,\n",
       " '_i28': \"do_something(1,'a')\",\n",
       " '_i29': 'help(do_something)',\n",
       " '_i30': 'def my_func(seq:\\'iterable\\')->\\'Returns the sum of the iterable\\':\\n    \"\"\">>>my_func([1,2,3])\\n       >>>6 \\n    \"\"\"\\n    return sum(seq)',\n",
       " '_i31': 'help(my_func)',\n",
       " '_i32': 'my_func.__code__.co_argcount',\n",
       " '_32': 1,\n",
       " '_i33': 'my_func()',\n",
       " '_i34': 'my_func((1,2,3))',\n",
       " '_34': 6,\n",
       " '_i35': \"my_func.version = '1.0.0'\\nmy_func.author = 'Arvind'\",\n",
       " '_i36': 'my_func((1,2,3))',\n",
       " '_36': 6,\n",
       " '_i37': 'my_func.__dict__',\n",
       " '_37': {'version': '1.0.0', 'author': 'Arvind'},\n",
       " '_i38': 'my_func.version',\n",
       " '_38': '1.0.0',\n",
       " '_i39': \"my_func.__dict__['version']\",\n",
       " '_39': '1.0.0',\n",
       " '_i40': \"def add(a,b):\\n    print('Hey within {}'.format(__class__))\\n    return a+b\",\n",
       " 'add': <function __main__.add(a, b)>,\n",
       " '_i41': 'add(2,3)',\n",
       " '_i42': \"def add(a,b):\\n    print('Hey within {}'.format(__name__))\\n    return a+b\",\n",
       " '_i43': 'add(2,3)',\n",
       " '_43': 5,\n",
       " '_i44': \"def test():\\n    return 'hello test'\",\n",
       " 'test': <function __main__.test()>,\n",
       " '_i45': 'add.t = test',\n",
       " '_i46': 'add.__dict__',\n",
       " '_46': {'t': <function __main__.test()>},\n",
       " '_i47': 'add.t',\n",
       " '_47': <function __main__.test()>,\n",
       " '_i48': 'add.t()',\n",
       " '_48': 'hello test',\n",
       " '_i49': \"fun=add.__dict__['t']\",\n",
       " 'fun': <function __main__.test()>,\n",
       " '_i50': 'fun',\n",
       " '_50': <function __main__.test()>,\n",
       " '_i51': 'fun()',\n",
       " '_51': 'hello test',\n",
       " '_i52': 'lambda',\n",
       " '_i53': 'lambda x:x+10',\n",
       " '_53': <function __main__.<lambda>(x)>,\n",
       " '_i54': 'f = lambda x:x+10',\n",
       " 'f': <function __main__.<lambda>(x)>,\n",
       " '_i55': 'f',\n",
       " '_55': <function __main__.<lambda>(x)>,\n",
       " '_i56': 'f(20)',\n",
       " '_56': 30,\n",
       " '_i57': 'f= lambda a,b:a*b',\n",
       " '_i58': 'f',\n",
       " '_58': <function __main__.<lambda>(a, b)>,\n",
       " '_i59': 'f(10,20)',\n",
       " '_59': 200,\n",
       " '_i60': \"r = lambda : 'hello world'\",\n",
       " 'r': <function __main__.<lambda>()>,\n",
       " '_i61': 'r()',\n",
       " '_61': 'hello world',\n",
       " '_i62': 'r(2)',\n",
       " '_i63': \"r = lambda : 'hello world'\",\n",
       " '_i64': 'r()',\n",
       " '_64': 'hello world',\n",
       " '_i65': 'r(2)',\n",
       " '_i66': 'f = lambda x: \"\"',\n",
       " '_i67': 'f(10)',\n",
       " '_67': '',\n",
       " '_i68': 'f = lambda x: None',\n",
       " '_i69': 'f(10)',\n",
       " '_i70': 'f = lambda x:',\n",
       " '_i71': 'pass',\n",
       " '_i72': 'def myfunc():\\n    pass',\n",
       " 'myfunc': <function __main__.myfunc()>,\n",
       " '_i73': 'def func():',\n",
       " '_i74': 'def func():\\n    \"\"\"Doc string\"\"\"',\n",
       " 'func': <function __main__.func()>,\n",
       " '_i75': 'func()',\n",
       " '_i76': \"name = 'Arvind'\\nage = 25\\ndef my_func():\\n    print(name,age)\",\n",
       " 'name': 'Arvind',\n",
       " 'age': 25,\n",
       " '_i77': 'my_func()',\n",
       " '_i78': 'globals()',\n",
       " '_78': {...},\n",
       " '_i79': 'y',\n",
       " '_i80': 'age',\n",
       " '_80': 25,\n",
       " '_i81': '__name__',\n",
       " '_81': '__main__',\n",
       " '_i82': 'locals()'}"
      ]
     },
     "execution_count": 82,
     "metadata": {},
     "output_type": "execute_result"
    }
   ],
   "source": [
    "locals()"
   ]
  },
  {
   "cell_type": "code",
   "execution_count": 83,
   "id": "efd51ea6",
   "metadata": {},
   "outputs": [
    {
     "data": {
      "text/plain": [
       "True"
      ]
     },
     "execution_count": 83,
     "metadata": {},
     "output_type": "execute_result"
    }
   ],
   "source": [
    "globals() == locals()"
   ]
  },
  {
   "cell_type": "code",
   "execution_count": 84,
   "id": "a994ed49",
   "metadata": {},
   "outputs": [
    {
     "data": {
      "text/plain": [
       "True"
      ]
     },
     "execution_count": 84,
     "metadata": {},
     "output_type": "execute_result"
    }
   ],
   "source": [
    "globals() is locals()"
   ]
  },
  {
   "cell_type": "code",
   "execution_count": 87,
   "id": "867de669",
   "metadata": {},
   "outputs": [],
   "source": [
    "def my_func():\n",
    "    a = 10 \n",
    "    b = 20 \n",
    "    l = [1,2,3,4,5]\n",
    "    print(locals())\n",
    "    print(locals()==globals())"
   ]
  },
  {
   "cell_type": "code",
   "execution_count": 88,
   "id": "c2c1dfbc",
   "metadata": {},
   "outputs": [
    {
     "name": "stdout",
     "output_type": "stream",
     "text": [
      "{'a': 10, 'b': 20, 'l': [1, 2, 3, 4, 5]}\n",
      "False\n"
     ]
    }
   ],
   "source": [
    "my_func()"
   ]
  },
  {
   "cell_type": "code",
   "execution_count": null,
   "id": "1cada574",
   "metadata": {},
   "outputs": [],
   "source": []
  }
 ],
 "metadata": {
  "kernelspec": {
   "display_name": "Python 3",
   "language": "python",
   "name": "python3"
  },
  "language_info": {
   "codemirror_mode": {
    "name": "ipython",
    "version": 3
   },
   "file_extension": ".py",
   "mimetype": "text/x-python",
   "name": "python",
   "nbconvert_exporter": "python",
   "pygments_lexer": "ipython3",
   "version": "3.9.6"
  }
 },
 "nbformat": 4,
 "nbformat_minor": 5
}
