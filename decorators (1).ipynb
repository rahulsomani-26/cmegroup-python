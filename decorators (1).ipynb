{
 "cells": [
  {
   "cell_type": "markdown",
   "id": "62c9ee6c",
   "metadata": {},
   "source": [
    "# POSITIONAL ARGUMENTS VS KEYWORD ONLY ARGUMENTS "
   ]
  },
  {
   "cell_type": "code",
   "execution_count": 1,
   "id": "42e8e22b",
   "metadata": {},
   "outputs": [],
   "source": [
    "def my_func(*first):\n",
    "    print(type(first))\n",
    "    print(first)"
   ]
  },
  {
   "cell_type": "code",
   "execution_count": 2,
   "id": "fcd33339",
   "metadata": {},
   "outputs": [
    {
     "data": {
      "text/plain": [
       "<function __main__.my_func(*first)>"
      ]
     },
     "execution_count": 2,
     "metadata": {},
     "output_type": "execute_result"
    }
   ],
   "source": [
    "my_func"
   ]
  },
  {
   "cell_type": "code",
   "execution_count": 3,
   "id": "4d2c2300",
   "metadata": {},
   "outputs": [
    {
     "name": "stdout",
     "output_type": "stream",
     "text": [
      "<class 'tuple'>\n",
      "(1, 2, 3, 4, 'a')\n"
     ]
    }
   ],
   "source": [
    "my_func(1,2,3,4,'a')"
   ]
  },
  {
   "cell_type": "code",
   "execution_count": 6,
   "id": "7a51cf54",
   "metadata": {},
   "outputs": [],
   "source": [
    "def my_func(*args):\n",
    "    print(type(args))\n",
    "    print(args)\n",
    "    print('-'*80)\n",
    "    print(args[0])"
   ]
  },
  {
   "cell_type": "code",
   "execution_count": 7,
   "id": "c4a4ab49",
   "metadata": {},
   "outputs": [
    {
     "name": "stdout",
     "output_type": "stream",
     "text": [
      "<class 'tuple'>\n",
      "([1, 2, 3, 4], (10, 20, 30), 'Rahul')\n",
      "--------------------------------------------------------------------------------\n",
      "[1, 2, 3, 4]\n"
     ]
    }
   ],
   "source": [
    "my_func([1,2,3,4],(10,20,30),'Rahul')"
   ]
  },
  {
   "cell_type": "code",
   "execution_count": 8,
   "id": "d6ae536a",
   "metadata": {},
   "outputs": [],
   "source": [
    "def my_func(**kwargs):\n",
    "    print(type(kwargs))\n",
    "    print(kwargs)"
   ]
  },
  {
   "cell_type": "code",
   "execution_count": 9,
   "id": "18639555",
   "metadata": {},
   "outputs": [
    {
     "ename": "TypeError",
     "evalue": "my_func() takes 0 positional arguments but 3 were given",
     "output_type": "error",
     "traceback": [
      "\u001b[1;31m---------------------------------------------------------------------------\u001b[0m",
      "\u001b[1;31mTypeError\u001b[0m                                 Traceback (most recent call last)",
      "\u001b[1;32m<ipython-input-9-bbee93b405d1>\u001b[0m in \u001b[0;36m<module>\u001b[1;34m\u001b[0m\n\u001b[1;32m----> 1\u001b[1;33m \u001b[0mmy_func\u001b[0m\u001b[1;33m(\u001b[0m\u001b[1;36m1\u001b[0m\u001b[1;33m,\u001b[0m\u001b[1;36m2\u001b[0m\u001b[1;33m,\u001b[0m\u001b[1;36m3\u001b[0m\u001b[1;33m)\u001b[0m\u001b[1;33m\u001b[0m\u001b[1;33m\u001b[0m\u001b[0m\n\u001b[0m",
      "\u001b[1;31mTypeError\u001b[0m: my_func() takes 0 positional arguments but 3 were given"
     ]
    }
   ],
   "source": [
    "my_func(1,2,3)"
   ]
  },
  {
   "cell_type": "code",
   "execution_count": 10,
   "id": "6fcce337",
   "metadata": {},
   "outputs": [
    {
     "name": "stdout",
     "output_type": "stream",
     "text": [
      "<class 'dict'>\n",
      "{'name': 'rahul', 'age': 42}\n"
     ]
    }
   ],
   "source": [
    "my_func(name=\"rahul\",age=42)"
   ]
  },
  {
   "cell_type": "code",
   "execution_count": 11,
   "id": "ff744f79",
   "metadata": {},
   "outputs": [],
   "source": [
    "def my_func(*args,**kwargs):\n",
    "    print(args)\n",
    "    print(kwargs)"
   ]
  },
  {
   "cell_type": "code",
   "execution_count": 12,
   "id": "b078fcf7",
   "metadata": {},
   "outputs": [
    {
     "name": "stdout",
     "output_type": "stream",
     "text": [
      "(10, 20, 30)\n",
      "{'name': 'rahul', 'age': 42}\n"
     ]
    }
   ],
   "source": [
    "my_func(10,20,30,name=\"rahul\",age=42)"
   ]
  },
  {
   "cell_type": "code",
   "execution_count": 13,
   "id": "8fd28d81",
   "metadata": {},
   "outputs": [],
   "source": [
    "def my_func(*args,**kwargs):\n",
    "    print(args)\n",
    "    print(args[0])\n",
    "    print(sum(args[0]))"
   ]
  },
  {
   "cell_type": "code",
   "execution_count": 14,
   "id": "f8c53a4d",
   "metadata": {},
   "outputs": [
    {
     "name": "stdout",
     "output_type": "stream",
     "text": [
      "([1, 2, 3, 4, 5],)\n",
      "[1, 2, 3, 4, 5]\n",
      "15\n"
     ]
    }
   ],
   "source": [
    "my_func([1,2,3,4,5],version='1.0.1')"
   ]
  },
  {
   "cell_type": "code",
   "execution_count": 15,
   "id": "723bfce5",
   "metadata": {},
   "outputs": [],
   "source": [
    "def my_func(a=10,b=20,c=30):\n",
    "    return a+b+c"
   ]
  },
  {
   "cell_type": "code",
   "execution_count": 16,
   "id": "79296bdb",
   "metadata": {},
   "outputs": [
    {
     "data": {
      "text/plain": [
       "60"
      ]
     },
     "execution_count": 16,
     "metadata": {},
     "output_type": "execute_result"
    }
   ],
   "source": [
    "my_func()"
   ]
  },
  {
   "cell_type": "code",
   "execution_count": 17,
   "id": "c9263487",
   "metadata": {},
   "outputs": [
    {
     "data": {
      "text/plain": [
       "600"
      ]
     },
     "execution_count": 17,
     "metadata": {},
     "output_type": "execute_result"
    }
   ],
   "source": [
    "my_func(100,200,300)"
   ]
  },
  {
   "cell_type": "code",
   "execution_count": 18,
   "id": "df203647",
   "metadata": {},
   "outputs": [
    {
     "data": {
      "text/plain": [
       "600"
      ]
     },
     "execution_count": 18,
     "metadata": {},
     "output_type": "execute_result"
    }
   ],
   "source": [
    "my_func(a=100,b=200,c=300)"
   ]
  },
  {
   "cell_type": "code",
   "execution_count": 19,
   "id": "d4e50f01",
   "metadata": {},
   "outputs": [
    {
     "ename": "SyntaxError",
     "evalue": "positional argument follows keyword argument (<ipython-input-19-733719c9bd34>, line 1)",
     "output_type": "error",
     "traceback": [
      "\u001b[1;36m  File \u001b[1;32m\"<ipython-input-19-733719c9bd34>\"\u001b[1;36m, line \u001b[1;32m1\u001b[0m\n\u001b[1;33m    my_func(a=100,200,c=300)\u001b[0m\n\u001b[1;37m                           ^\u001b[0m\n\u001b[1;31mSyntaxError\u001b[0m\u001b[1;31m:\u001b[0m positional argument follows keyword argument\n"
     ]
    }
   ],
   "source": [
    "my_func(a=100,200,c=300)"
   ]
  },
  {
   "cell_type": "code",
   "execution_count": 20,
   "id": "510b33f7",
   "metadata": {},
   "outputs": [
    {
     "data": {
      "text/plain": [
       "150"
      ]
     },
     "execution_count": 20,
     "metadata": {},
     "output_type": "execute_result"
    }
   ],
   "source": [
    "my_func(100)"
   ]
  },
  {
   "cell_type": "code",
   "execution_count": 21,
   "id": "b4d591ba",
   "metadata": {},
   "outputs": [
    {
     "data": {
      "text/plain": [
       "330"
      ]
     },
     "execution_count": 21,
     "metadata": {},
     "output_type": "execute_result"
    }
   ],
   "source": [
    "my_func(100,200)"
   ]
  },
  {
   "cell_type": "markdown",
   "id": "ccca7f2f",
   "metadata": {},
   "source": [
    "Write a function that counts the number of times a particular function has been called ??"
   ]
  },
  {
   "cell_type": "code",
   "execution_count": 22,
   "id": "4139d0a1",
   "metadata": {},
   "outputs": [],
   "source": [
    "def my_counter(fn):\n",
    "    count = 0 \n",
    "    def inner(*args,**kwargs):\n",
    "        nonlocal count \n",
    "        count+=1\n",
    "        print('Function {} called {} times'.format(fn.__name__,count))\n",
    "        fn(*args,**kwargs)\n",
    "    return inner "
   ]
  },
  {
   "cell_type": "code",
   "execution_count": 23,
   "id": "d345cca1",
   "metadata": {},
   "outputs": [],
   "source": [
    "def add(a,b):\n",
    "    return a+b\n",
    "\n",
    "def mult(a,b):\n",
    "    return a*b \n"
   ]
  },
  {
   "cell_type": "code",
   "execution_count": 24,
   "id": "b5e69784",
   "metadata": {},
   "outputs": [
    {
     "data": {
      "text/plain": [
       "<function __main__.my_counter(fn)>"
      ]
     },
     "execution_count": 24,
     "metadata": {},
     "output_type": "execute_result"
    }
   ],
   "source": [
    "my_counter"
   ]
  },
  {
   "cell_type": "code",
   "execution_count": 26,
   "id": "ef5db690",
   "metadata": {},
   "outputs": [
    {
     "data": {
      "text/plain": [
       "<function __main__.my_counter.<locals>.inner(*args, **kwargs)>"
      ]
     },
     "execution_count": 26,
     "metadata": {},
     "output_type": "execute_result"
    }
   ],
   "source": [
    "my_counter(add)"
   ]
  },
  {
   "cell_type": "code",
   "execution_count": 27,
   "id": "95301fda",
   "metadata": {},
   "outputs": [],
   "source": [
    "result = my_counter(add)"
   ]
  },
  {
   "cell_type": "code",
   "execution_count": 28,
   "id": "0d677a1f",
   "metadata": {},
   "outputs": [
    {
     "data": {
      "text/plain": [
       "<function __main__.my_counter.<locals>.inner(*args, **kwargs)>"
      ]
     },
     "execution_count": 28,
     "metadata": {},
     "output_type": "execute_result"
    }
   ],
   "source": [
    "result"
   ]
  },
  {
   "cell_type": "code",
   "execution_count": 29,
   "id": "6be276e2",
   "metadata": {},
   "outputs": [
    {
     "name": "stdout",
     "output_type": "stream",
     "text": [
      "Function add called 1 times\n"
     ]
    }
   ],
   "source": [
    "result(2,3)"
   ]
  },
  {
   "cell_type": "code",
   "execution_count": 30,
   "id": "752fc521",
   "metadata": {},
   "outputs": [
    {
     "name": "stdout",
     "output_type": "stream",
     "text": [
      "Function add called 2 times\n"
     ]
    }
   ],
   "source": [
    "result(3,4)"
   ]
  },
  {
   "cell_type": "code",
   "execution_count": 31,
   "id": "537463e5",
   "metadata": {},
   "outputs": [],
   "source": [
    " def my_counter(fn):\n",
    "    count = 0 \n",
    "    def inner(*args,**kwargs):\n",
    "        nonlocal count \n",
    "        count+=1\n",
    "        print('Function {} called {} times'.format(fn.__name__,count))\n",
    "        fn(*args,**kwargs)\n",
    "    return inner \n"
   ]
  },
  {
   "cell_type": "code",
   "execution_count": 32,
   "id": "58fcb1b7",
   "metadata": {},
   "outputs": [],
   "source": [
    "add = my_counter(add)"
   ]
  },
  {
   "cell_type": "code",
   "execution_count": 33,
   "id": "9b36dbb8",
   "metadata": {},
   "outputs": [
    {
     "data": {
      "text/plain": [
       "<function __main__.my_counter.<locals>.inner(*args, **kwargs)>"
      ]
     },
     "execution_count": 33,
     "metadata": {},
     "output_type": "execute_result"
    }
   ],
   "source": [
    "add"
   ]
  },
  {
   "cell_type": "code",
   "execution_count": 34,
   "id": "6a3f8e6f",
   "metadata": {},
   "outputs": [
    {
     "name": "stdout",
     "output_type": "stream",
     "text": [
      "Function add called 1 times\n"
     ]
    }
   ],
   "source": [
    "add(2,3)"
   ]
  },
  {
   "cell_type": "code",
   "execution_count": 35,
   "id": "b3b83b27",
   "metadata": {},
   "outputs": [
    {
     "name": "stdout",
     "output_type": "stream",
     "text": [
      "Function add called 2 times\n"
     ]
    }
   ],
   "source": [
    "add(6,7)"
   ]
  },
  {
   "cell_type": "code",
   "execution_count": 36,
   "id": "04b43aef",
   "metadata": {},
   "outputs": [],
   "source": [
    "mult = my_counter(mult)"
   ]
  },
  {
   "cell_type": "code",
   "execution_count": 39,
   "id": "12460503",
   "metadata": {},
   "outputs": [
    {
     "name": "stdout",
     "output_type": "stream",
     "text": [
      "Function mult called 3 times\n"
     ]
    }
   ],
   "source": [
    "mult(2,3)"
   ]
  },
  {
   "cell_type": "markdown",
   "id": "8cc55eb4",
   "metadata": {},
   "source": [
    "# Decorator is a function \n",
    "# It takes function as an argument \n",
    "# it returns a function \n",
    "# it may return a closure "
   ]
  },
  {
   "cell_type": "code",
   "execution_count": 46,
   "id": "9d48aeeb",
   "metadata": {},
   "outputs": [],
   "source": [
    " def my_counter(fn):\n",
    "    count = 0 \n",
    "    def inner(*args,**kwargs):\n",
    "        nonlocal count \n",
    "        count+=1\n",
    "        print('Function {} called {} times'.format(fn.__name__,count))\n",
    "        return fn(*args,**kwargs)\n",
    "    return inner \n"
   ]
  },
  {
   "cell_type": "code",
   "execution_count": 47,
   "id": "6366c3bd",
   "metadata": {},
   "outputs": [
    {
     "name": "stdout",
     "output_type": "stream",
     "text": [
      "['__annotations__', '__call__', '__class__', '__closure__', '__code__', '__defaults__', '__delattr__', '__dict__', '__dir__', '__doc__', '__eq__', '__format__', '__ge__', '__get__', '__getattribute__', '__globals__', '__gt__', '__hash__', '__init__', '__init_subclass__', '__kwdefaults__', '__le__', '__lt__', '__module__', '__name__', '__ne__', '__new__', '__qualname__', '__reduce__', '__reduce_ex__', '__repr__', '__setattr__', '__sizeof__', '__str__', '__subclasshook__']\n"
     ]
    }
   ],
   "source": [
    "print(dir(my_counter))"
   ]
  },
  {
   "cell_type": "code",
   "execution_count": 48,
   "id": "4b0d5016",
   "metadata": {},
   "outputs": [],
   "source": [
    "my_counter.__closure__"
   ]
  },
  {
   "cell_type": "code",
   "execution_count": 49,
   "id": "a07a8e97",
   "metadata": {},
   "outputs": [],
   "source": [
    "@my_counter\n",
    "def my_print(msg):\n",
    "    print(msg)"
   ]
  },
  {
   "cell_type": "code",
   "execution_count": 50,
   "id": "7752c395",
   "metadata": {},
   "outputs": [
    {
     "data": {
      "text/plain": [
       "<function __main__.my_counter.<locals>.inner(*args, **kwargs)>"
      ]
     },
     "execution_count": 50,
     "metadata": {},
     "output_type": "execute_result"
    }
   ],
   "source": [
    "my_print"
   ]
  },
  {
   "cell_type": "code",
   "execution_count": 52,
   "id": "39775707",
   "metadata": {},
   "outputs": [
    {
     "name": "stdout",
     "output_type": "stream",
     "text": [
      "Function my_print called 2 times\n",
      "Hey\n"
     ]
    }
   ],
   "source": [
    "my_print('Hey')"
   ]
  },
  {
   "cell_type": "code",
   "execution_count": 53,
   "id": "326a13a0",
   "metadata": {},
   "outputs": [
    {
     "name": "stdout",
     "output_type": "stream",
     "text": [
      "Function my_print called 3 times\n",
      "How are you dear\n"
     ]
    }
   ],
   "source": [
    "my_print('How are you dear')"
   ]
  },
  {
   "cell_type": "code",
   "execution_count": null,
   "id": "cc8ba4f0",
   "metadata": {},
   "outputs": [],
   "source": []
  }
 ],
 "metadata": {
  "kernelspec": {
   "display_name": "Python 3",
   "language": "python",
   "name": "python3"
  },
  "language_info": {
   "codemirror_mode": {
    "name": "ipython",
    "version": 3
   },
   "file_extension": ".py",
   "mimetype": "text/x-python",
   "name": "python",
   "nbconvert_exporter": "python",
   "pygments_lexer": "ipython3",
   "version": "3.9.6"
  }
 },
 "nbformat": 4,
 "nbformat_minor": 5
}
