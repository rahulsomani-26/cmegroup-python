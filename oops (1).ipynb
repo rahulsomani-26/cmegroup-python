{
 "cells": [
  {
   "cell_type": "code",
   "execution_count": 1,
   "id": "f4e3cfe5",
   "metadata": {},
   "outputs": [],
   "source": [
    "class Empty:\n",
    "    pass"
   ]
  },
  {
   "cell_type": "code",
   "execution_count": 2,
   "id": "aac6adb8",
   "metadata": {},
   "outputs": [
    {
     "data": {
      "text/plain": [
       "__main__.Empty"
      ]
     },
     "execution_count": 2,
     "metadata": {},
     "output_type": "execute_result"
    }
   ],
   "source": [
    "Empty"
   ]
  },
  {
   "cell_type": "code",
   "execution_count": 3,
   "id": "4a021d87",
   "metadata": {},
   "outputs": [
    {
     "name": "stdout",
     "output_type": "stream",
     "text": [
      "<class 'type'>\n"
     ]
    }
   ],
   "source": [
    "print(type(Empty))"
   ]
  },
  {
   "cell_type": "code",
   "execution_count": 4,
   "id": "8c0a8be9",
   "metadata": {},
   "outputs": [],
   "source": [
    "class First:\n",
    "    def __init__(self):\n",
    "        print(\"Object Initialized\")\n",
    "    def say_hi(self):\n",
    "        print(\"Hi\")\n",
    "        "
   ]
  },
  {
   "cell_type": "code",
   "execution_count": 5,
   "id": "76649b3b",
   "metadata": {},
   "outputs": [
    {
     "ename": "TypeError",
     "evalue": "__init__() takes 1 positional argument but 2 were given",
     "output_type": "error",
     "traceback": [
      "\u001b[1;31m---------------------------------------------------------------------------\u001b[0m",
      "\u001b[1;31mTypeError\u001b[0m                                 Traceback (most recent call last)",
      "\u001b[1;32m<ipython-input-5-6b7d77e2b53a>\u001b[0m in \u001b[0;36m<module>\u001b[1;34m\u001b[0m\n\u001b[1;32m----> 1\u001b[1;33m \u001b[0mf\u001b[0m \u001b[1;33m=\u001b[0m \u001b[0mFirst\u001b[0m\u001b[1;33m(\u001b[0m\u001b[1;36m12\u001b[0m\u001b[1;33m)\u001b[0m\u001b[1;33m\u001b[0m\u001b[1;33m\u001b[0m\u001b[0m\n\u001b[0m",
      "\u001b[1;31mTypeError\u001b[0m: __init__() takes 1 positional argument but 2 were given"
     ]
    }
   ],
   "source": [
    "f = First(12)"
   ]
  },
  {
   "cell_type": "code",
   "execution_count": 6,
   "id": "d1da4e06",
   "metadata": {},
   "outputs": [
    {
     "name": "stdout",
     "output_type": "stream",
     "text": [
      "Object Initialized\n"
     ]
    }
   ],
   "source": [
    "f = First()"
   ]
  },
  {
   "cell_type": "code",
   "execution_count": 7,
   "id": "09064b23",
   "metadata": {},
   "outputs": [
    {
     "data": {
      "text/plain": [
       "<__main__.First at 0x168da94bbb0>"
      ]
     },
     "execution_count": 7,
     "metadata": {},
     "output_type": "execute_result"
    }
   ],
   "source": [
    "f"
   ]
  },
  {
   "cell_type": "code",
   "execution_count": 8,
   "id": "ae279332",
   "metadata": {},
   "outputs": [
    {
     "name": "stdout",
     "output_type": "stream",
     "text": [
      "Hi\n"
     ]
    }
   ],
   "source": [
    "f.say_hi()"
   ]
  },
  {
   "cell_type": "code",
   "execution_count": 9,
   "id": "c5f402ba",
   "metadata": {},
   "outputs": [
    {
     "data": {
      "text/plain": [
       "mappingproxy({'__module__': '__main__',\n",
       "              '__init__': <function __main__.First.__init__(self)>,\n",
       "              'say_hi': <function __main__.First.say_hi(self)>,\n",
       "              '__dict__': <attribute '__dict__' of 'First' objects>,\n",
       "              '__weakref__': <attribute '__weakref__' of 'First' objects>,\n",
       "              '__doc__': None})"
      ]
     },
     "execution_count": 9,
     "metadata": {},
     "output_type": "execute_result"
    }
   ],
   "source": [
    "First.__dict__"
   ]
  },
  {
   "cell_type": "code",
   "execution_count": 10,
   "id": "acf9ea0a",
   "metadata": {},
   "outputs": [
    {
     "data": {
      "text/plain": [
       "<function __main__.First.say_hi(self)>"
      ]
     },
     "execution_count": 10,
     "metadata": {},
     "output_type": "execute_result"
    }
   ],
   "source": [
    "First.__dict__['say_hi']"
   ]
  },
  {
   "cell_type": "code",
   "execution_count": 12,
   "id": "aa397686",
   "metadata": {},
   "outputs": [
    {
     "name": "stdout",
     "output_type": "stream",
     "text": [
      "Hi\n"
     ]
    }
   ],
   "source": [
    "#First.__dict__['say_hi'](f)"
   ]
  },
  {
   "cell_type": "code",
   "execution_count": 13,
   "id": "600440b8",
   "metadata": {},
   "outputs": [],
   "source": [
    "First.name = 'Arvind'"
   ]
  },
  {
   "cell_type": "code",
   "execution_count": 14,
   "id": "f3c32565",
   "metadata": {},
   "outputs": [],
   "source": [
    "First.age = 25"
   ]
  },
  {
   "cell_type": "code",
   "execution_count": 15,
   "id": "d96c8da8",
   "metadata": {},
   "outputs": [
    {
     "data": {
      "text/plain": [
       "mappingproxy({'__module__': '__main__',\n",
       "              '__init__': <function __main__.First.__init__(self)>,\n",
       "              'say_hi': <function __main__.First.say_hi(self)>,\n",
       "              '__dict__': <attribute '__dict__' of 'First' objects>,\n",
       "              '__weakref__': <attribute '__weakref__' of 'First' objects>,\n",
       "              '__doc__': None,\n",
       "              'name': 'Arvind',\n",
       "              'age': 25})"
      ]
     },
     "execution_count": 15,
     "metadata": {},
     "output_type": "execute_result"
    }
   ],
   "source": [
    "First.__dict__"
   ]
  },
  {
   "cell_type": "code",
   "execution_count": 24,
   "id": "e8cb177c",
   "metadata": {},
   "outputs": [],
   "source": [
    "class Student:\n",
    "    # Class wide attributes \n",
    "    school = 'St. Xaviers'\n",
    "    def my_func(self):\n",
    "        print(\"I am a class method\")\n",
    "        print(\"My first argument must be self or any name you prefer\")\n",
    "        print('{}'.format(__class__))"
   ]
  },
  {
   "cell_type": "code",
   "execution_count": 25,
   "id": "c060f247",
   "metadata": {},
   "outputs": [
    {
     "data": {
      "text/plain": [
       "(__main__.Student, type, 1549844209104)"
      ]
     },
     "execution_count": 25,
     "metadata": {},
     "output_type": "execute_result"
    }
   ],
   "source": [
    "Student, type(Student), id(Student)"
   ]
  },
  {
   "cell_type": "code",
   "execution_count": 26,
   "id": "9796844a",
   "metadata": {},
   "outputs": [],
   "source": [
    "s1 = Student()"
   ]
  },
  {
   "cell_type": "code",
   "execution_count": 27,
   "id": "52655f95",
   "metadata": {},
   "outputs": [
    {
     "data": {
      "text/plain": [
       "<__main__.Student at 0x168da935eb0>"
      ]
     },
     "execution_count": 27,
     "metadata": {},
     "output_type": "execute_result"
    }
   ],
   "source": [
    "s1"
   ]
  },
  {
   "cell_type": "code",
   "execution_count": 28,
   "id": "f0c96038",
   "metadata": {},
   "outputs": [
    {
     "data": {
      "text/plain": [
       "'St. Xaviers'"
      ]
     },
     "execution_count": 28,
     "metadata": {},
     "output_type": "execute_result"
    }
   ],
   "source": [
    "s1.school"
   ]
  },
  {
   "cell_type": "code",
   "execution_count": 29,
   "id": "ec5812c6",
   "metadata": {},
   "outputs": [
    {
     "name": "stdout",
     "output_type": "stream",
     "text": [
      "I am a class method\n",
      "My first argument must be self or any name you prefer\n",
      "<class '__main__.Student'>\n"
     ]
    }
   ],
   "source": [
    "s1.my_func()"
   ]
  },
  {
   "cell_type": "code",
   "execution_count": 30,
   "id": "6443fa49",
   "metadata": {},
   "outputs": [],
   "source": [
    "s2 = Student()"
   ]
  },
  {
   "cell_type": "code",
   "execution_count": 31,
   "id": "07d4c140",
   "metadata": {},
   "outputs": [
    {
     "data": {
      "text/plain": [
       "(<__main__.Student at 0x168da935eb0>, <__main__.Student at 0x168da925e80>)"
      ]
     },
     "execution_count": 31,
     "metadata": {},
     "output_type": "execute_result"
    }
   ],
   "source": [
    "s1 , s2"
   ]
  },
  {
   "cell_type": "code",
   "execution_count": 32,
   "id": "d22de143",
   "metadata": {},
   "outputs": [
    {
     "data": {
      "text/plain": [
       "False"
      ]
     },
     "execution_count": 32,
     "metadata": {},
     "output_type": "execute_result"
    }
   ],
   "source": [
    "s1 == s2 "
   ]
  },
  {
   "cell_type": "code",
   "execution_count": 34,
   "id": "39d7df01",
   "metadata": {},
   "outputs": [
    {
     "data": {
      "text/plain": [
       "'St. Xaviers'"
      ]
     },
     "execution_count": 34,
     "metadata": {},
     "output_type": "execute_result"
    }
   ],
   "source": [
    "s2.school\n"
   ]
  },
  {
   "cell_type": "code",
   "execution_count": 36,
   "id": "89d43254",
   "metadata": {},
   "outputs": [
    {
     "name": "stdout",
     "output_type": "stream",
     "text": [
      "I am a class method\n",
      "My first argument must be self or any name you prefer\n",
      "<class '__main__.Student'>\n"
     ]
    }
   ],
   "source": [
    "s2.my_func()"
   ]
  },
  {
   "cell_type": "code",
   "execution_count": 37,
   "id": "7db99e48",
   "metadata": {},
   "outputs": [
    {
     "data": {
      "text/plain": [
       "{}"
      ]
     },
     "execution_count": 37,
     "metadata": {},
     "output_type": "execute_result"
    }
   ],
   "source": [
    "s1.__dict__"
   ]
  },
  {
   "cell_type": "code",
   "execution_count": 38,
   "id": "e2a425cd",
   "metadata": {},
   "outputs": [
    {
     "name": "stdout",
     "output_type": "stream",
     "text": [
      "['__class__', '__delattr__', '__dict__', '__dir__', '__doc__', '__eq__', '__format__', '__ge__', '__getattribute__', '__gt__', '__hash__', '__init__', '__init_subclass__', '__le__', '__lt__', '__module__', '__ne__', '__new__', '__reduce__', '__reduce_ex__', '__repr__', '__setattr__', '__sizeof__', '__str__', '__subclasshook__', '__weakref__', 'my_func', 'school']\n"
     ]
    }
   ],
   "source": [
    "print(dir(Student))"
   ]
  },
  {
   "cell_type": "code",
   "execution_count": 39,
   "id": "2356cc9a",
   "metadata": {},
   "outputs": [],
   "source": [
    "class Plane:\n",
    "    x = 0 \n",
    "    y = 0\n",
    "    \n",
    "    def get_cordinate(which):\n",
    "        print(\"Will it work\")\n",
    "        print(which.x)\n",
    "        print(which.y)\n",
    "        \n",
    "    "
   ]
  },
  {
   "cell_type": "code",
   "execution_count": 40,
   "id": "76d67ddb",
   "metadata": {},
   "outputs": [],
   "source": [
    "p = Plane()"
   ]
  },
  {
   "cell_type": "code",
   "execution_count": 41,
   "id": "b053a4ef",
   "metadata": {},
   "outputs": [
    {
     "data": {
      "text/plain": [
       "<__main__.Plane at 0x168da88aa30>"
      ]
     },
     "execution_count": 41,
     "metadata": {},
     "output_type": "execute_result"
    }
   ],
   "source": [
    "p"
   ]
  },
  {
   "cell_type": "code",
   "execution_count": 42,
   "id": "42f7a357",
   "metadata": {},
   "outputs": [
    {
     "data": {
      "text/plain": [
       "0"
      ]
     },
     "execution_count": 42,
     "metadata": {},
     "output_type": "execute_result"
    }
   ],
   "source": [
    "p.x"
   ]
  },
  {
   "cell_type": "code",
   "execution_count": 43,
   "id": "647fa20e",
   "metadata": {},
   "outputs": [
    {
     "data": {
      "text/plain": [
       "0"
      ]
     },
     "execution_count": 43,
     "metadata": {},
     "output_type": "execute_result"
    }
   ],
   "source": [
    "p.y"
   ]
  },
  {
   "cell_type": "code",
   "execution_count": 44,
   "id": "10f581a3",
   "metadata": {},
   "outputs": [
    {
     "data": {
      "text/plain": [
       "<bound method Plane.get_cordinate of <__main__.Plane object at 0x00000168DA88AA30>>"
      ]
     },
     "execution_count": 44,
     "metadata": {},
     "output_type": "execute_result"
    }
   ],
   "source": [
    "p.get_cordinate"
   ]
  },
  {
   "cell_type": "code",
   "execution_count": 45,
   "id": "ab17b618",
   "metadata": {},
   "outputs": [
    {
     "name": "stdout",
     "output_type": "stream",
     "text": [
      "Will it work\n",
      "0\n",
      "0\n"
     ]
    }
   ],
   "source": [
    "p.get_cordinate()"
   ]
  },
  {
   "cell_type": "code",
   "execution_count": 48,
   "id": "dba6cdb4",
   "metadata": {},
   "outputs": [],
   "source": [
    "class Student:\n",
    "    def __init__(self,name,age):\n",
    "        self.name = name \n",
    "        self.age = age\n",
    "        \n",
    "    def get_name(self):\n",
    "        return self.name\n",
    "    \n",
    "    def get_age(self):\n",
    "        return self.age\n",
    "   \n"
   ]
  },
  {
   "cell_type": "code",
   "execution_count": 49,
   "id": "28e34ff9",
   "metadata": {},
   "outputs": [],
   "source": [
    "s1 = Student(\"Akash\",10)\n",
    "s2 = Student(\"Abhilash\",12)"
   ]
  },
  {
   "cell_type": "code",
   "execution_count": 50,
   "id": "190c2d82",
   "metadata": {},
   "outputs": [
    {
     "data": {
      "text/plain": [
       "(<__main__.Student at 0x168da94ba00>, <__main__.Student at 0x168da890430>)"
      ]
     },
     "execution_count": 50,
     "metadata": {},
     "output_type": "execute_result"
    }
   ],
   "source": [
    "s1,s2"
   ]
  },
  {
   "cell_type": "code",
   "execution_count": 53,
   "id": "e3cf2cb8",
   "metadata": {},
   "outputs": [
    {
     "data": {
      "text/plain": [
       "('Akash', 10)"
      ]
     },
     "execution_count": 53,
     "metadata": {},
     "output_type": "execute_result"
    }
   ],
   "source": [
    "s1.get_name(), s1.get_age()"
   ]
  },
  {
   "cell_type": "code",
   "execution_count": 54,
   "id": "971672f1",
   "metadata": {},
   "outputs": [
    {
     "data": {
      "text/plain": [
       "('Abhilash', 10)"
      ]
     },
     "execution_count": 54,
     "metadata": {},
     "output_type": "execute_result"
    }
   ],
   "source": [
    "s2.get_name(), s1.get_age()"
   ]
  },
  {
   "cell_type": "code",
   "execution_count": 55,
   "id": "1e8375d0",
   "metadata": {},
   "outputs": [
    {
     "data": {
      "text/plain": [
       "{'name': 'Akash', 'age': 10}"
      ]
     },
     "execution_count": 55,
     "metadata": {},
     "output_type": "execute_result"
    }
   ],
   "source": [
    "s1.__dict__"
   ]
  },
  {
   "cell_type": "code",
   "execution_count": 56,
   "id": "1273e81e",
   "metadata": {},
   "outputs": [
    {
     "data": {
      "text/plain": [
       "{'name': 'Abhilash', 'age': 12}"
      ]
     },
     "execution_count": 56,
     "metadata": {},
     "output_type": "execute_result"
    }
   ],
   "source": [
    "s2.__dict__"
   ]
  },
  {
   "cell_type": "code",
   "execution_count": 57,
   "id": "f6ba25b6",
   "metadata": {},
   "outputs": [],
   "source": [
    "class Car:\n",
    "    # class level attribute\n",
    "    wheels = 4\n",
    "    model = '2021'\n",
    "    \n",
    "    def __init__(self,owner,brand,color):\n",
    "        self.owner = owner\n",
    "        self.brand = brand\n",
    "        self.color = color \n",
    "        \n",
    "    "
   ]
  },
  {
   "cell_type": "code",
   "execution_count": 58,
   "id": "0f8ef36c",
   "metadata": {},
   "outputs": [],
   "source": [
    "c1 = Car(\"you\",'We','RED')"
   ]
  },
  {
   "cell_type": "code",
   "execution_count": 59,
   "id": "304059ab",
   "metadata": {},
   "outputs": [
    {
     "data": {
      "text/plain": [
       "<__main__.Car at 0x168da91d6a0>"
      ]
     },
     "execution_count": 59,
     "metadata": {},
     "output_type": "execute_result"
    }
   ],
   "source": [
    "c1"
   ]
  },
  {
   "cell_type": "code",
   "execution_count": 60,
   "id": "255c7101",
   "metadata": {},
   "outputs": [
    {
     "data": {
      "text/plain": [
       "{'owner': 'you', 'brand': 'We', 'color': 'RED'}"
      ]
     },
     "execution_count": 60,
     "metadata": {},
     "output_type": "execute_result"
    }
   ],
   "source": [
    "c1.__dict__"
   ]
  },
  {
   "cell_type": "code",
   "execution_count": 61,
   "id": "4fbfe5f6",
   "metadata": {},
   "outputs": [
    {
     "data": {
      "text/plain": [
       "__main__.Car"
      ]
     },
     "execution_count": 61,
     "metadata": {},
     "output_type": "execute_result"
    }
   ],
   "source": [
    "Car"
   ]
  },
  {
   "cell_type": "code",
   "execution_count": 62,
   "id": "ef74bf3f",
   "metadata": {},
   "outputs": [],
   "source": [
    "class Car:\n",
    "    # class level attribute\n",
    "    wheels = 4\n",
    "    model = '2021'\n",
    "    \n",
    "    def __init__(self,owner,brand,color):\n",
    "        self.owner = owner\n",
    "        self.brand = brand\n",
    "        self.color = color \n",
    "        \n",
    "    def get_details(self):\n",
    "        return self.owner,self.brand,self.color\n",
    "    \n",
    "    def __repr__(self):\n",
    "        return f'Car({self.owner,self.brand,self.color})'\n",
    "        "
   ]
  },
  {
   "cell_type": "code",
   "execution_count": 63,
   "id": "3ba4f099",
   "metadata": {},
   "outputs": [],
   "source": [
    "c = Car('Rahul','XY','Blue')"
   ]
  },
  {
   "cell_type": "code",
   "execution_count": 64,
   "id": "6bd126a4",
   "metadata": {},
   "outputs": [
    {
     "data": {
      "text/plain": [
       "__main__.Car"
      ]
     },
     "execution_count": 64,
     "metadata": {},
     "output_type": "execute_result"
    }
   ],
   "source": [
    "Car"
   ]
  },
  {
   "cell_type": "code",
   "execution_count": 65,
   "id": "f8a1bc0e",
   "metadata": {},
   "outputs": [
    {
     "data": {
      "text/plain": [
       "Car(('Rahul', 'XY', 'Blue'))"
      ]
     },
     "execution_count": 65,
     "metadata": {},
     "output_type": "execute_result"
    }
   ],
   "source": [
    "c"
   ]
  },
  {
   "cell_type": "code",
   "execution_count": 66,
   "id": "008bcdd7",
   "metadata": {},
   "outputs": [
    {
     "name": "stdout",
     "output_type": "stream",
     "text": [
      "Car(('Rahul', 'XY', 'Blue'))\n"
     ]
    }
   ],
   "source": [
    "print(c)"
   ]
  },
  {
   "cell_type": "code",
   "execution_count": 67,
   "id": "207ce0b1",
   "metadata": {},
   "outputs": [
    {
     "data": {
      "text/plain": [
       "\"Car(('Rahul', 'XY', 'Blue'))\""
      ]
     },
     "execution_count": 67,
     "metadata": {},
     "output_type": "execute_result"
    }
   ],
   "source": [
    "str(c)"
   ]
  },
  {
   "cell_type": "code",
   "execution_count": 68,
   "id": "b460599f",
   "metadata": {},
   "outputs": [
    {
     "data": {
      "text/plain": [
       "4"
      ]
     },
     "execution_count": 68,
     "metadata": {},
     "output_type": "execute_result"
    }
   ],
   "source": [
    "c.wheels\n",
    "    "
   ]
  },
  {
   "cell_type": "code",
   "execution_count": 69,
   "id": "2553d16f",
   "metadata": {},
   "outputs": [
    {
     "data": {
      "text/plain": [
       "'2021'"
      ]
     },
     "execution_count": 69,
     "metadata": {},
     "output_type": "execute_result"
    }
   ],
   "source": [
    "c.model"
   ]
  },
  {
   "cell_type": "code",
   "execution_count": 70,
   "id": "46cee441",
   "metadata": {},
   "outputs": [],
   "source": [
    "c1 = Car('me','you','red')\n",
    "c2 = Car('she','he','blue')"
   ]
  },
  {
   "cell_type": "code",
   "execution_count": 71,
   "id": "9fd5d01c",
   "metadata": {},
   "outputs": [
    {
     "data": {
      "text/plain": [
       "False"
      ]
     },
     "execution_count": 71,
     "metadata": {},
     "output_type": "execute_result"
    }
   ],
   "source": [
    "c1 == c2"
   ]
  },
  {
   "cell_type": "code",
   "execution_count": 72,
   "id": "3a525fd3",
   "metadata": {},
   "outputs": [
    {
     "data": {
      "text/plain": [
       "True"
      ]
     },
     "execution_count": 72,
     "metadata": {},
     "output_type": "execute_result"
    }
   ],
   "source": [
    "id(c1) != id(c2)"
   ]
  },
  {
   "cell_type": "code",
   "execution_count": 73,
   "id": "47359465",
   "metadata": {},
   "outputs": [
    {
     "data": {
      "text/plain": [
       "(4, 4)"
      ]
     },
     "execution_count": 73,
     "metadata": {},
     "output_type": "execute_result"
    }
   ],
   "source": [
    "c1.wheels, c2.wheels"
   ]
  },
  {
   "cell_type": "code",
   "execution_count": 74,
   "id": "04af2439",
   "metadata": {},
   "outputs": [
    {
     "data": {
      "text/plain": [
       "mappingproxy({'__module__': '__main__',\n",
       "              'wheels': 4,\n",
       "              'model': '2021',\n",
       "              '__init__': <function __main__.Car.__init__(self, owner, brand, color)>,\n",
       "              'get_details': <function __main__.Car.get_details(self)>,\n",
       "              '__repr__': <function __main__.Car.__repr__(self)>,\n",
       "              '__dict__': <attribute '__dict__' of 'Car' objects>,\n",
       "              '__weakref__': <attribute '__weakref__' of 'Car' objects>,\n",
       "              '__doc__': None})"
      ]
     },
     "execution_count": 74,
     "metadata": {},
     "output_type": "execute_result"
    }
   ],
   "source": [
    "Car.__dict__"
   ]
  },
  {
   "cell_type": "code",
   "execution_count": 75,
   "id": "524e4307",
   "metadata": {},
   "outputs": [
    {
     "data": {
      "text/plain": [
       "{'owner': 'me', 'brand': 'you', 'color': 'red'}"
      ]
     },
     "execution_count": 75,
     "metadata": {},
     "output_type": "execute_result"
    }
   ],
   "source": [
    "c1.__dict__"
   ]
  },
  {
   "cell_type": "code",
   "execution_count": 76,
   "id": "368d0617",
   "metadata": {},
   "outputs": [],
   "source": [
    "class Example:\n",
    "    def normal_func():\n",
    "        print(\"A normal function within a class\")\n",
    "    def instance_func(self):\n",
    "        print(f'Hello from {self}')\n",
    "    \n",
    "    @classmethod\n",
    "    def class_func(cls):\n",
    "        print(f'Hello from {cls}')\n",
    "        \n",
    "    @staticmethod\n",
    "    def static_func():\n",
    "        print(\" A static function that can be called from the class and ........?\")"
   ]
  },
  {
   "cell_type": "code",
   "execution_count": 77,
   "id": "1422bd14",
   "metadata": {},
   "outputs": [],
   "source": [
    "e = Example()"
   ]
  },
  {
   "cell_type": "code",
   "execution_count": 78,
   "id": "6f5f0c5b",
   "metadata": {},
   "outputs": [
    {
     "data": {
      "text/plain": [
       "<function __main__.Example.normal_func()>"
      ]
     },
     "execution_count": 78,
     "metadata": {},
     "output_type": "execute_result"
    }
   ],
   "source": [
    "Example.normal_func"
   ]
  },
  {
   "cell_type": "code",
   "execution_count": 79,
   "id": "156bb231",
   "metadata": {},
   "outputs": [
    {
     "name": "stdout",
     "output_type": "stream",
     "text": [
      "A normal function within a class\n"
     ]
    }
   ],
   "source": [
    "Example.normal_func()"
   ]
  },
  {
   "cell_type": "code",
   "execution_count": 80,
   "id": "a4c38ed0",
   "metadata": {},
   "outputs": [
    {
     "data": {
      "text/plain": [
       "<bound method Example.normal_func of <__main__.Example object at 0x00000168DA90CDC0>>"
      ]
     },
     "execution_count": 80,
     "metadata": {},
     "output_type": "execute_result"
    }
   ],
   "source": [
    "e.normal_func"
   ]
  },
  {
   "cell_type": "code",
   "execution_count": 81,
   "id": "49e1f47c",
   "metadata": {},
   "outputs": [
    {
     "ename": "TypeError",
     "evalue": "normal_func() takes 0 positional arguments but 1 was given",
     "output_type": "error",
     "traceback": [
      "\u001b[1;31m---------------------------------------------------------------------------\u001b[0m",
      "\u001b[1;31mTypeError\u001b[0m                                 Traceback (most recent call last)",
      "\u001b[1;32m<ipython-input-81-0fb4b52598bc>\u001b[0m in \u001b[0;36m<module>\u001b[1;34m\u001b[0m\n\u001b[1;32m----> 1\u001b[1;33m \u001b[0me\u001b[0m\u001b[1;33m.\u001b[0m\u001b[0mnormal_func\u001b[0m\u001b[1;33m(\u001b[0m\u001b[1;33m)\u001b[0m\u001b[1;33m\u001b[0m\u001b[1;33m\u001b[0m\u001b[0m\n\u001b[0m",
      "\u001b[1;31mTypeError\u001b[0m: normal_func() takes 0 positional arguments but 1 was given"
     ]
    }
   ],
   "source": [
    "e.normal_func()"
   ]
  },
  {
   "cell_type": "code",
   "execution_count": 82,
   "id": "6441b768",
   "metadata": {},
   "outputs": [
    {
     "ename": "NameError",
     "evalue": "name 'normal_func' is not defined",
     "output_type": "error",
     "traceback": [
      "\u001b[1;31m---------------------------------------------------------------------------\u001b[0m",
      "\u001b[1;31mNameError\u001b[0m                                 Traceback (most recent call last)",
      "\u001b[1;32m<ipython-input-82-b6c97a1ce3d2>\u001b[0m in \u001b[0;36m<module>\u001b[1;34m\u001b[0m\n\u001b[1;32m----> 1\u001b[1;33m \u001b[0mnormal_func\u001b[0m\u001b[1;33m(\u001b[0m\u001b[0me\u001b[0m\u001b[1;33m)\u001b[0m\u001b[1;33m\u001b[0m\u001b[1;33m\u001b[0m\u001b[0m\n\u001b[0m",
      "\u001b[1;31mNameError\u001b[0m: name 'normal_func' is not defined"
     ]
    }
   ],
   "source": [
    "normal_func(e)"
   ]
  },
  {
   "cell_type": "code",
   "execution_count": 83,
   "id": "5b9550aa",
   "metadata": {},
   "outputs": [
    {
     "name": "stdout",
     "output_type": "stream",
     "text": [
      "Hello from <__main__.Example object at 0x00000168DA90CDC0>\n"
     ]
    }
   ],
   "source": [
    "e.instance_func()"
   ]
  },
  {
   "cell_type": "code",
   "execution_count": 84,
   "id": "c72fa89c",
   "metadata": {},
   "outputs": [
    {
     "data": {
      "text/plain": [
       "<bound method Example.class_func of <class '__main__.Example'>>"
      ]
     },
     "execution_count": 84,
     "metadata": {},
     "output_type": "execute_result"
    }
   ],
   "source": [
    "Example.class_func"
   ]
  },
  {
   "cell_type": "code",
   "execution_count": 85,
   "id": "b141aaad",
   "metadata": {},
   "outputs": [
    {
     "data": {
      "text/plain": [
       "<bound method Example.class_func of <class '__main__.Example'>>"
      ]
     },
     "execution_count": 85,
     "metadata": {},
     "output_type": "execute_result"
    }
   ],
   "source": [
    "e.class_func"
   ]
  },
  {
   "cell_type": "code",
   "execution_count": 86,
   "id": "23b16c24",
   "metadata": {},
   "outputs": [
    {
     "name": "stdout",
     "output_type": "stream",
     "text": [
      "Hello from <class '__main__.Example'>\n"
     ]
    }
   ],
   "source": [
    "Example.class_func()"
   ]
  },
  {
   "cell_type": "code",
   "execution_count": 87,
   "id": "bcd1fcd9",
   "metadata": {},
   "outputs": [
    {
     "name": "stdout",
     "output_type": "stream",
     "text": [
      "Hello from <class '__main__.Example'>\n"
     ]
    }
   ],
   "source": [
    "e.class_func()"
   ]
  },
  {
   "cell_type": "code",
   "execution_count": 88,
   "id": "e2610ee3",
   "metadata": {},
   "outputs": [
    {
     "name": "stdout",
     "output_type": "stream",
     "text": [
      " A static function that can be called from the class and ........?\n"
     ]
    }
   ],
   "source": [
    "e.static_func()"
   ]
  },
  {
   "cell_type": "code",
   "execution_count": 89,
   "id": "b5a782e3",
   "metadata": {},
   "outputs": [
    {
     "name": "stdout",
     "output_type": "stream",
     "text": [
      " A static function that can be called from the class and ........?\n"
     ]
    }
   ],
   "source": [
    "Example.static_func()"
   ]
  },
  {
   "cell_type": "code",
   "execution_count": null,
   "id": "e12707db",
   "metadata": {},
   "outputs": [],
   "source": []
  }
 ],
 "metadata": {
  "kernelspec": {
   "display_name": "Python 3",
   "language": "python",
   "name": "python3"
  },
  "language_info": {
   "codemirror_mode": {
    "name": "ipython",
    "version": 3
   },
   "file_extension": ".py",
   "mimetype": "text/x-python",
   "name": "python",
   "nbconvert_exporter": "python",
   "pygments_lexer": "ipython3",
   "version": "3.9.6"
  }
 },
 "nbformat": 4,
 "nbformat_minor": 5
}
