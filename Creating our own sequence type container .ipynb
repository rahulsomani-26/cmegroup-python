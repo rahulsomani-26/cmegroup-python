{
 "cells": [
  {
   "cell_type": "code",
   "execution_count": 1,
   "id": "9f872d4c",
   "metadata": {},
   "outputs": [],
   "source": [
    "import random"
   ]
  },
  {
   "cell_type": "code",
   "execution_count": 2,
   "id": "205ebecf",
   "metadata": {},
   "outputs": [
    {
     "data": {
      "text/plain": [
       "<module 'random' from 'c:\\\\users\\\\soman\\\\appdata\\\\local\\\\programs\\\\python\\\\python39\\\\lib\\\\random.py'>"
      ]
     },
     "execution_count": 2,
     "metadata": {},
     "output_type": "execute_result"
    }
   ],
   "source": [
    "random"
   ]
  },
  {
   "cell_type": "code",
   "execution_count": 3,
   "id": "a3c20f94",
   "metadata": {},
   "outputs": [
    {
     "name": "stdout",
     "output_type": "stream",
     "text": [
      "['BPF', 'LOG4', 'NV_MAGICCONST', 'RECIP_BPF', 'Random', 'SG_MAGICCONST', 'SystemRandom', 'TWOPI', '_Sequence', '_Set', '__all__', '__builtins__', '__cached__', '__doc__', '__file__', '__loader__', '__name__', '__package__', '__spec__', '_accumulate', '_acos', '_bisect', '_ceil', '_cos', '_e', '_exp', '_floor', '_inst', '_log', '_os', '_pi', '_random', '_repeat', '_sha512', '_sin', '_sqrt', '_test', '_test_generator', '_urandom', '_warn', 'betavariate', 'choice', 'choices', 'expovariate', 'gammavariate', 'gauss', 'getrandbits', 'getstate', 'lognormvariate', 'normalvariate', 'paretovariate', 'randbytes', 'randint', 'random', 'randrange', 'sample', 'seed', 'setstate', 'shuffle', 'triangular', 'uniform', 'vonmisesvariate', 'weibullvariate']\n"
     ]
    }
   ],
   "source": [
    "print(dir(random))"
   ]
  },
  {
   "cell_type": "code",
   "execution_count": 4,
   "id": "98dc67d9",
   "metadata": {},
   "outputs": [
    {
     "data": {
      "text/plain": [
       "<bound method Random.randint of <random.Random object at 0x000002527D7DBF40>>"
      ]
     },
     "execution_count": 4,
     "metadata": {},
     "output_type": "execute_result"
    }
   ],
   "source": [
    "random.randint"
   ]
  },
  {
   "cell_type": "code",
   "execution_count": 5,
   "id": "4b49c62c",
   "metadata": {},
   "outputs": [
    {
     "name": "stdout",
     "output_type": "stream",
     "text": [
      "Help on method randint in module random:\n",
      "\n",
      "randint(a, b) method of random.Random instance\n",
      "    Return random integer in range [a, b], including both end points.\n",
      "\n"
     ]
    }
   ],
   "source": [
    "help(random.randint)"
   ]
  },
  {
   "cell_type": "code",
   "execution_count": 11,
   "id": "d3f77127",
   "metadata": {},
   "outputs": [
    {
     "data": {
      "text/plain": [
       "65"
      ]
     },
     "execution_count": 11,
     "metadata": {},
     "output_type": "execute_result"
    }
   ],
   "source": [
    "random.randint(10,100)"
   ]
  },
  {
   "cell_type": "code",
   "execution_count": 26,
   "id": "74a434df",
   "metadata": {},
   "outputs": [],
   "source": [
    "import random\n",
    "class Container:\n",
    "    \"\"\"\n",
    "    >>> c = Container()\n",
    "    >>> 65\n",
    "    \"\"\"\n",
    "    def __init__(self):\n",
    "        print('Object initialized')\n",
    "    \n",
    "    def __next__(self):\n",
    "        return random.randint(10,100)\n",
    "    "
   ]
  },
  {
   "cell_type": "code",
   "execution_count": 27,
   "id": "b0ef2868",
   "metadata": {},
   "outputs": [
    {
     "name": "stdout",
     "output_type": "stream",
     "text": [
      "Object initialized\n"
     ]
    }
   ],
   "source": [
    "c = Container()"
   ]
  },
  {
   "cell_type": "code",
   "execution_count": 28,
   "id": "a00c17a8",
   "metadata": {},
   "outputs": [
    {
     "data": {
      "text/plain": [
       "75"
      ]
     },
     "execution_count": 28,
     "metadata": {},
     "output_type": "execute_result"
    }
   ],
   "source": [
    "next(c)"
   ]
  },
  {
   "cell_type": "code",
   "execution_count": 29,
   "id": "d84f9506",
   "metadata": {},
   "outputs": [
    {
     "data": {
      "text/plain": [
       "36"
      ]
     },
     "execution_count": 29,
     "metadata": {},
     "output_type": "execute_result"
    }
   ],
   "source": [
    "next(c)"
   ]
  },
  {
   "cell_type": "code",
   "execution_count": 30,
   "id": "ffa17392",
   "metadata": {},
   "outputs": [
    {
     "data": {
      "text/plain": [
       "85"
      ]
     },
     "execution_count": 30,
     "metadata": {},
     "output_type": "execute_result"
    }
   ],
   "source": [
    "next(c)"
   ]
  },
  {
   "cell_type": "code",
   "execution_count": 21,
   "id": "dfc1f249",
   "metadata": {},
   "outputs": [
    {
     "data": {
      "text/plain": [
       "76"
      ]
     },
     "execution_count": 21,
     "metadata": {},
     "output_type": "execute_result"
    }
   ],
   "source": [
    "next(c)"
   ]
  },
  {
   "cell_type": "code",
   "execution_count": 22,
   "id": "294ae8cd",
   "metadata": {},
   "outputs": [
    {
     "data": {
      "text/plain": [
       "67"
      ]
     },
     "execution_count": 22,
     "metadata": {},
     "output_type": "execute_result"
    }
   ],
   "source": [
    "c.__next__()"
   ]
  },
  {
   "cell_type": "code",
   "execution_count": 23,
   "id": "a7073825",
   "metadata": {},
   "outputs": [
    {
     "name": "stdout",
     "output_type": "stream",
     "text": [
      "Help on class Container in module __main__:\n",
      "\n",
      "class Container(builtins.object)\n",
      " |  >>> c = Container()\n",
      " |  >>> 65\n",
      " |  \n",
      " |  Methods defined here:\n",
      " |  \n",
      " |  __init__(self)\n",
      " |      Initialize self.  See help(type(self)) for accurate signature.\n",
      " |  \n",
      " |  __next__(self)\n",
      " |  \n",
      " |  ----------------------------------------------------------------------\n",
      " |  Data descriptors defined here:\n",
      " |  \n",
      " |  __dict__\n",
      " |      dictionary for instance variables (if defined)\n",
      " |  \n",
      " |  __weakref__\n",
      " |      list of weak references to the object (if defined)\n",
      "\n"
     ]
    }
   ],
   "source": [
    "help(Container)"
   ]
  },
  {
   "cell_type": "code",
   "execution_count": 25,
   "id": "fce2f8a6",
   "metadata": {},
   "outputs": [
    {
     "name": "stdout",
     "output_type": "stream",
     "text": [
      "\n",
      "    >>> c = Container()\n",
      "    >>> 65\n",
      "    \n"
     ]
    }
   ],
   "source": [
    "print(Container.__doc__)"
   ]
  },
  {
   "cell_type": "code",
   "execution_count": 35,
   "id": "56333ac1",
   "metadata": {},
   "outputs": [
    {
     "name": "stdout",
     "output_type": "stream",
     "text": [
      "32\t11\t17\t96\t69\t95\t66\t34\t16\t51\t45\t99\t50\t92\t50\t49\t13\t40\t21\t71\t35\t89\t33\t36\t28\t17\t61\t79\t13\t34\t50\t63\t29\t77\t94\t93\t47\t11\t51\t37\t33\t34\t49\t75\t40\t47\t39\t54\t20\t41\t20\t38\t17\t51\t63\t84\t22\t67\t95\t90\t19\t26\t46\t21\t50\t81\t81\t85\t60\t51\t10\t33\t53\t57\t53\t86\t13\t65\t15\t83\t49\t52\t33\t89\t81\t86\t11\t76\t16\t100\t74\t20\t65\t82\t75\t31\t32\t99\t36\t57\t"
     ]
    }
   ],
   "source": [
    "for _ in range(100):\n",
    "    print(next(c),end='\\t')"
   ]
  },
  {
   "cell_type": "code",
   "execution_count": 48,
   "id": "49cb08ff",
   "metadata": {},
   "outputs": [],
   "source": [
    "import random\n",
    "import time \n",
    "class Container:\n",
    "    \"\"\"\n",
    "    >>> c = Container(5)\n",
    "    >>> next(c)\n",
    "    >>> 6523\n",
    "    \"\"\"\n",
    "    def __init__(self,length):\n",
    "        self.length = length \n",
    "        self.index = 0 \n",
    "        print('Object initialized')\n",
    "    \n",
    "    def __next__(self):\n",
    "        if self.index <= self.length:\n",
    "            self.index +=1 \n",
    "            print(' Sending you an OTP')\n",
    "            time.sleep(2)\n",
    "            return random.randint(1000,9999)\n",
    "    "
   ]
  },
  {
   "cell_type": "code",
   "execution_count": 49,
   "id": "a4bc34a2",
   "metadata": {},
   "outputs": [
    {
     "name": "stdout",
     "output_type": "stream",
     "text": [
      "Object initialized\n"
     ]
    }
   ],
   "source": [
    "c = Container(5)"
   ]
  },
  {
   "cell_type": "code",
   "execution_count": 52,
   "id": "d78ff2ac",
   "metadata": {},
   "outputs": [
    {
     "name": "stdout",
     "output_type": "stream",
     "text": [
      " Sending you an OTP\n"
     ]
    },
    {
     "data": {
      "text/plain": [
       "9473"
      ]
     },
     "execution_count": 52,
     "metadata": {},
     "output_type": "execute_result"
    }
   ],
   "source": [
    "next(c)"
   ]
  },
  {
   "cell_type": "code",
   "execution_count": 53,
   "id": "e23e3e16",
   "metadata": {},
   "outputs": [
    {
     "name": "stdout",
     "output_type": "stream",
     "text": [
      " Sending you an OTP\n"
     ]
    },
    {
     "data": {
      "text/plain": [
       "6359"
      ]
     },
     "execution_count": 53,
     "metadata": {},
     "output_type": "execute_result"
    }
   ],
   "source": [
    "next(c)"
   ]
  },
  {
   "cell_type": "code",
   "execution_count": 54,
   "id": "22261df7",
   "metadata": {},
   "outputs": [
    {
     "name": "stdout",
     "output_type": "stream",
     "text": [
      " Sending you an OTP\n"
     ]
    },
    {
     "data": {
      "text/plain": [
       "6214"
      ]
     },
     "execution_count": 54,
     "metadata": {},
     "output_type": "execute_result"
    }
   ],
   "source": [
    "next(c)"
   ]
  },
  {
   "cell_type": "code",
   "execution_count": 55,
   "id": "0eccda3d",
   "metadata": {},
   "outputs": [
    {
     "name": "stdout",
     "output_type": "stream",
     "text": [
      " Sending you an OTP\n"
     ]
    },
    {
     "data": {
      "text/plain": [
       "5779"
      ]
     },
     "execution_count": 55,
     "metadata": {},
     "output_type": "execute_result"
    }
   ],
   "source": [
    "next(c)"
   ]
  },
  {
   "cell_type": "code",
   "execution_count": 56,
   "id": "6176212b",
   "metadata": {},
   "outputs": [],
   "source": [
    "next(c)"
   ]
  },
  {
   "cell_type": "code",
   "execution_count": 57,
   "id": "d607ff95",
   "metadata": {},
   "outputs": [],
   "source": [
    "next(c)"
   ]
  },
  {
   "cell_type": "code",
   "execution_count": 58,
   "id": "65083886",
   "metadata": {},
   "outputs": [],
   "source": [
    "next(c)"
   ]
  },
  {
   "cell_type": "code",
   "execution_count": 59,
   "id": "21411492",
   "metadata": {},
   "outputs": [],
   "source": [
    "next(c)"
   ]
  },
  {
   "cell_type": "code",
   "execution_count": 61,
   "id": "d03202c5",
   "metadata": {},
   "outputs": [],
   "source": [
    "import random\n",
    "import time \n",
    "class Container:\n",
    "    \"\"\"\n",
    "    >>> c = Container(5)\n",
    "    >>> next(c)\n",
    "    >>> 6523\n",
    "    \"\"\"\n",
    "    def __init__(self,length):\n",
    "        self.length = length \n",
    "        self.index = 0 \n",
    "        print('Object initialized')\n",
    "    \n",
    "    def __next__(self):\n",
    "        if self.index <= self.length:\n",
    "            self.index +=1 \n",
    "            print(' Sending you an OTP')\n",
    "            time.sleep(2)\n",
    "            return random.randint(1000,9999)\n",
    "        \n",
    "    def __repr__(self):\n",
    "        return f'Container({self.length})'\n",
    "        \n",
    "    \n",
    "    "
   ]
  },
  {
   "cell_type": "code",
   "execution_count": 62,
   "id": "886800e6",
   "metadata": {},
   "outputs": [
    {
     "name": "stdout",
     "output_type": "stream",
     "text": [
      "Object initialized\n"
     ]
    }
   ],
   "source": [
    "c = Container(3)"
   ]
  },
  {
   "cell_type": "code",
   "execution_count": 63,
   "id": "38a3b853",
   "metadata": {},
   "outputs": [
    {
     "data": {
      "text/plain": [
       "{'length': 3, 'index': 0}"
      ]
     },
     "execution_count": 63,
     "metadata": {},
     "output_type": "execute_result"
    }
   ],
   "source": [
    "c.__dict__"
   ]
  },
  {
   "cell_type": "code",
   "execution_count": 64,
   "id": "ac45ab89",
   "metadata": {},
   "outputs": [
    {
     "name": "stdout",
     "output_type": "stream",
     "text": [
      " Sending you an OTP\n"
     ]
    },
    {
     "data": {
      "text/plain": [
       "5050"
      ]
     },
     "execution_count": 64,
     "metadata": {},
     "output_type": "execute_result"
    }
   ],
   "source": [
    "next(c)"
   ]
  },
  {
   "cell_type": "code",
   "execution_count": 65,
   "id": "920776d7",
   "metadata": {},
   "outputs": [
    {
     "data": {
      "text/plain": [
       "{'length': 3, 'index': 1}"
      ]
     },
     "execution_count": 65,
     "metadata": {},
     "output_type": "execute_result"
    }
   ],
   "source": [
    "c.__dict__"
   ]
  },
  {
   "cell_type": "code",
   "execution_count": 66,
   "id": "a889f6eb",
   "metadata": {},
   "outputs": [
    {
     "name": "stdout",
     "output_type": "stream",
     "text": [
      " Sending you an OTP\n"
     ]
    },
    {
     "data": {
      "text/plain": [
       "7214"
      ]
     },
     "execution_count": 66,
     "metadata": {},
     "output_type": "execute_result"
    }
   ],
   "source": [
    "next(c)"
   ]
  },
  {
   "cell_type": "code",
   "execution_count": 68,
   "id": "1395f8a1",
   "metadata": {},
   "outputs": [
    {
     "data": {
      "text/plain": [
       "{'length': 3, 'index': 2}"
      ]
     },
     "execution_count": 68,
     "metadata": {},
     "output_type": "execute_result"
    }
   ],
   "source": [
    "c.__dict__"
   ]
  },
  {
   "cell_type": "code",
   "execution_count": 69,
   "id": "6b8a967c",
   "metadata": {},
   "outputs": [
    {
     "name": "stdout",
     "output_type": "stream",
     "text": [
      " Sending you an OTP\n"
     ]
    },
    {
     "data": {
      "text/plain": [
       "1102"
      ]
     },
     "execution_count": 69,
     "metadata": {},
     "output_type": "execute_result"
    }
   ],
   "source": [
    "next(c)"
   ]
  },
  {
   "cell_type": "code",
   "execution_count": 70,
   "id": "ff3975e8",
   "metadata": {},
   "outputs": [
    {
     "data": {
      "text/plain": [
       "{'length': 3, 'index': 3}"
      ]
     },
     "execution_count": 70,
     "metadata": {},
     "output_type": "execute_result"
    }
   ],
   "source": [
    "c.__dict__"
   ]
  },
  {
   "cell_type": "code",
   "execution_count": 71,
   "id": "ee8ce78b",
   "metadata": {},
   "outputs": [
    {
     "name": "stdout",
     "output_type": "stream",
     "text": [
      " Sending you an OTP\n"
     ]
    },
    {
     "data": {
      "text/plain": [
       "5191"
      ]
     },
     "execution_count": 71,
     "metadata": {},
     "output_type": "execute_result"
    }
   ],
   "source": [
    "next(c)"
   ]
  },
  {
   "cell_type": "code",
   "execution_count": 72,
   "id": "13ebb8db",
   "metadata": {},
   "outputs": [
    {
     "data": {
      "text/plain": [
       "{'length': 3, 'index': 4}"
      ]
     },
     "execution_count": 72,
     "metadata": {},
     "output_type": "execute_result"
    }
   ],
   "source": [
    "c.__dict__"
   ]
  },
  {
   "cell_type": "code",
   "execution_count": 73,
   "id": "35557de5",
   "metadata": {},
   "outputs": [],
   "source": [
    "next(c)"
   ]
  },
  {
   "cell_type": "code",
   "execution_count": 74,
   "id": "d67bcf93",
   "metadata": {},
   "outputs": [],
   "source": [
    "import random\n",
    "import time \n",
    "class Container:\n",
    "    \"\"\"\n",
    "    >>> c = Container(5)\n",
    "    >>> next(c)\n",
    "    >>> 6523\n",
    "    \"\"\"\n",
    "    def __init__(self,length):\n",
    "        self.length = length \n",
    "        self.index = 0 \n",
    "        print('Object initialized')\n",
    "    \n",
    "    def __next__(self):\n",
    "        if self.index <= self.length:\n",
    "            self.index +=1 \n",
    "            print(' Sending you an OTP')\n",
    "            time.sleep(2)\n",
    "            return random.randint(1000,9999)\n",
    "        else:\n",
    "            raise StopIteration(\"Stop it yaar \")\n",
    "        \n",
    "    def __repr__(self):\n",
    "        return f'Container({self.length})'\n",
    "        \n",
    "    \n",
    "    "
   ]
  },
  {
   "cell_type": "code",
   "execution_count": 75,
   "id": "814ad0dc",
   "metadata": {},
   "outputs": [
    {
     "name": "stdout",
     "output_type": "stream",
     "text": [
      "Object initialized\n"
     ]
    }
   ],
   "source": [
    "c = Container(2)"
   ]
  },
  {
   "cell_type": "code",
   "execution_count": 76,
   "id": "087cd476",
   "metadata": {},
   "outputs": [
    {
     "name": "stdout",
     "output_type": "stream",
     "text": [
      " Sending you an OTP\n"
     ]
    },
    {
     "data": {
      "text/plain": [
       "5288"
      ]
     },
     "execution_count": 76,
     "metadata": {},
     "output_type": "execute_result"
    }
   ],
   "source": [
    "next(c)"
   ]
  },
  {
   "cell_type": "code",
   "execution_count": 77,
   "id": "a04a546e",
   "metadata": {},
   "outputs": [
    {
     "data": {
      "text/plain": [
       "{'length': 2, 'index': 1}"
      ]
     },
     "execution_count": 77,
     "metadata": {},
     "output_type": "execute_result"
    }
   ],
   "source": [
    "c.__dict__"
   ]
  },
  {
   "cell_type": "code",
   "execution_count": 78,
   "id": "ddc7e412",
   "metadata": {},
   "outputs": [
    {
     "name": "stdout",
     "output_type": "stream",
     "text": [
      " Sending you an OTP\n"
     ]
    },
    {
     "data": {
      "text/plain": [
       "4277"
      ]
     },
     "execution_count": 78,
     "metadata": {},
     "output_type": "execute_result"
    }
   ],
   "source": [
    "next(c)"
   ]
  },
  {
   "cell_type": "code",
   "execution_count": 79,
   "id": "84fdb159",
   "metadata": {},
   "outputs": [
    {
     "data": {
      "text/plain": [
       "{'length': 2, 'index': 2}"
      ]
     },
     "execution_count": 79,
     "metadata": {},
     "output_type": "execute_result"
    }
   ],
   "source": [
    "c.__dict__"
   ]
  },
  {
   "cell_type": "code",
   "execution_count": 80,
   "id": "4671cfa1",
   "metadata": {},
   "outputs": [
    {
     "name": "stdout",
     "output_type": "stream",
     "text": [
      " Sending you an OTP\n"
     ]
    },
    {
     "data": {
      "text/plain": [
       "8019"
      ]
     },
     "execution_count": 80,
     "metadata": {},
     "output_type": "execute_result"
    }
   ],
   "source": [
    "next(c)"
   ]
  },
  {
   "cell_type": "code",
   "execution_count": 81,
   "id": "2dcb17b7",
   "metadata": {},
   "outputs": [
    {
     "data": {
      "text/plain": [
       "{'length': 2, 'index': 3}"
      ]
     },
     "execution_count": 81,
     "metadata": {},
     "output_type": "execute_result"
    }
   ],
   "source": [
    "c.__dict__"
   ]
  },
  {
   "cell_type": "code",
   "execution_count": 82,
   "id": "b8151123",
   "metadata": {},
   "outputs": [
    {
     "ename": "StopIteration",
     "evalue": "Stop it yaar ",
     "output_type": "error",
     "traceback": [
      "\u001b[1;31m---------------------------------------------------------------------------\u001b[0m",
      "\u001b[1;31mStopIteration\u001b[0m                             Traceback (most recent call last)",
      "\u001b[1;32m<ipython-input-82-e846efec376d>\u001b[0m in \u001b[0;36m<module>\u001b[1;34m\u001b[0m\n\u001b[1;32m----> 1\u001b[1;33m \u001b[0mnext\u001b[0m\u001b[1;33m(\u001b[0m\u001b[0mc\u001b[0m\u001b[1;33m)\u001b[0m\u001b[1;33m\u001b[0m\u001b[1;33m\u001b[0m\u001b[0m\n\u001b[0m",
      "\u001b[1;32m<ipython-input-74-d2eb64c62160>\u001b[0m in \u001b[0;36m__next__\u001b[1;34m(self)\u001b[0m\n\u001b[0;32m     19\u001b[0m             \u001b[1;32mreturn\u001b[0m \u001b[0mrandom\u001b[0m\u001b[1;33m.\u001b[0m\u001b[0mrandint\u001b[0m\u001b[1;33m(\u001b[0m\u001b[1;36m1000\u001b[0m\u001b[1;33m,\u001b[0m\u001b[1;36m9999\u001b[0m\u001b[1;33m)\u001b[0m\u001b[1;33m\u001b[0m\u001b[1;33m\u001b[0m\u001b[0m\n\u001b[0;32m     20\u001b[0m         \u001b[1;32melse\u001b[0m\u001b[1;33m:\u001b[0m\u001b[1;33m\u001b[0m\u001b[1;33m\u001b[0m\u001b[0m\n\u001b[1;32m---> 21\u001b[1;33m             \u001b[1;32mraise\u001b[0m \u001b[0mStopIteration\u001b[0m\u001b[1;33m(\u001b[0m\u001b[1;34m\"Stop it yaar \"\u001b[0m\u001b[1;33m)\u001b[0m\u001b[1;33m\u001b[0m\u001b[1;33m\u001b[0m\u001b[0m\n\u001b[0m\u001b[0;32m     22\u001b[0m \u001b[1;33m\u001b[0m\u001b[0m\n\u001b[0;32m     23\u001b[0m     \u001b[1;32mdef\u001b[0m \u001b[0m__repr__\u001b[0m\u001b[1;33m(\u001b[0m\u001b[0mself\u001b[0m\u001b[1;33m)\u001b[0m\u001b[1;33m:\u001b[0m\u001b[1;33m\u001b[0m\u001b[1;33m\u001b[0m\u001b[0m\n",
      "\u001b[1;31mStopIteration\u001b[0m: Stop it yaar "
     ]
    }
   ],
   "source": [
    "next(c)"
   ]
  },
  {
   "cell_type": "markdown",
   "id": "56373cb1",
   "metadata": {},
   "source": [
    "# Callables \n",
    "\n",
    "` * That can be called ` \n",
    "\n",
    "` * Functions are callables ` \n",
    "\n",
    "` * So are classes ` \n",
    "\n",
    "` * Do you think that functions within class are callable ` "
   ]
  },
  {
   "cell_type": "code",
   "execution_count": 90,
   "id": "3e87de5a",
   "metadata": {},
   "outputs": [],
   "source": [
    "class Example:\n",
    "    def __init__(self):\n",
    "        self.index = 0 \n",
    "    def __call__(self):\n",
    "        self.index +=10\n",
    "        return self.index"
   ]
  },
  {
   "cell_type": "code",
   "execution_count": 91,
   "id": "6b6ddb8a",
   "metadata": {},
   "outputs": [],
   "source": [
    "e = Example()"
   ]
  },
  {
   "cell_type": "code",
   "execution_count": 92,
   "id": "085be6a4",
   "metadata": {},
   "outputs": [
    {
     "data": {
      "text/plain": [
       "{'index': 0}"
      ]
     },
     "execution_count": 92,
     "metadata": {},
     "output_type": "execute_result"
    }
   ],
   "source": [
    "e.__dict__"
   ]
  },
  {
   "cell_type": "code",
   "execution_count": 93,
   "id": "ee4a7afe",
   "metadata": {},
   "outputs": [
    {
     "data": {
      "text/plain": [
       "10"
      ]
     },
     "execution_count": 93,
     "metadata": {},
     "output_type": "execute_result"
    }
   ],
   "source": [
    "e()"
   ]
  },
  {
   "cell_type": "code",
   "execution_count": 94,
   "id": "b99aa357",
   "metadata": {},
   "outputs": [
    {
     "data": {
      "text/plain": [
       "20"
      ]
     },
     "execution_count": 94,
     "metadata": {},
     "output_type": "execute_result"
    }
   ],
   "source": [
    "e()"
   ]
  },
  {
   "cell_type": "code",
   "execution_count": 95,
   "id": "988b512b",
   "metadata": {},
   "outputs": [
    {
     "data": {
      "text/plain": [
       "30"
      ]
     },
     "execution_count": 95,
     "metadata": {},
     "output_type": "execute_result"
    }
   ],
   "source": [
    "e()\n"
   ]
  },
  {
   "cell_type": "code",
   "execution_count": 96,
   "id": "6817cbc3",
   "metadata": {},
   "outputs": [
    {
     "data": {
      "text/plain": [
       "{'index': 30}"
      ]
     },
     "execution_count": 96,
     "metadata": {},
     "output_type": "execute_result"
    }
   ],
   "source": [
    "e.__dict__"
   ]
  },
  {
   "cell_type": "code",
   "execution_count": null,
   "id": "115246f8",
   "metadata": {},
   "outputs": [],
   "source": []
  }
 ],
 "metadata": {
  "kernelspec": {
   "display_name": "Python 3",
   "language": "python",
   "name": "python3"
  },
  "language_info": {
   "codemirror_mode": {
    "name": "ipython",
    "version": 3
   },
   "file_extension": ".py",
   "mimetype": "text/x-python",
   "name": "python",
   "nbconvert_exporter": "python",
   "pygments_lexer": "ipython3",
   "version": "3.9.6"
  }
 },
 "nbformat": 4,
 "nbformat_minor": 5
}
