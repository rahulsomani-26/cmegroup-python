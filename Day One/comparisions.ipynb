{
 "cells": [
  {
   "cell_type": "code",
   "execution_count": 1,
   "id": "8ded9ab4",
   "metadata": {},
   "outputs": [],
   "source": [
    "# Comparing \n",
    "a = 10 \n",
    "b = 20 \n"
   ]
  },
  {
   "cell_type": "code",
   "execution_count": 2,
   "id": "10032e78",
   "metadata": {},
   "outputs": [
    {
     "data": {
      "text/plain": [
       "False"
      ]
     },
     "execution_count": 2,
     "metadata": {},
     "output_type": "execute_result"
    }
   ],
   "source": [
    "a == b "
   ]
  },
  {
   "cell_type": "code",
   "execution_count": 3,
   "id": "8d72d83e",
   "metadata": {},
   "outputs": [
    {
     "data": {
      "text/plain": [
       "False"
      ]
     },
     "execution_count": 3,
     "metadata": {},
     "output_type": "execute_result"
    }
   ],
   "source": [
    "a > b "
   ]
  },
  {
   "cell_type": "code",
   "execution_count": 4,
   "id": "fcaa67ee",
   "metadata": {},
   "outputs": [
    {
     "data": {
      "text/plain": [
       "True"
      ]
     },
     "execution_count": 4,
     "metadata": {},
     "output_type": "execute_result"
    }
   ],
   "source": [
    "a < b"
   ]
  },
  {
   "cell_type": "code",
   "execution_count": 5,
   "id": "f1b99b1d",
   "metadata": {},
   "outputs": [
    {
     "data": {
      "text/plain": [
       "False"
      ]
     },
     "execution_count": 5,
     "metadata": {},
     "output_type": "execute_result"
    }
   ],
   "source": [
    "a >=b"
   ]
  },
  {
   "cell_type": "code",
   "execution_count": 6,
   "id": "28115a95",
   "metadata": {},
   "outputs": [
    {
     "data": {
      "text/plain": [
       "True"
      ]
     },
     "execution_count": 6,
     "metadata": {},
     "output_type": "execute_result"
    }
   ],
   "source": [
    "a <= b"
   ]
  },
  {
   "cell_type": "code",
   "execution_count": 7,
   "id": "56fc39c4",
   "metadata": {},
   "outputs": [
    {
     "data": {
      "text/plain": [
       "True"
      ]
     },
     "execution_count": 7,
     "metadata": {},
     "output_type": "execute_result"
    }
   ],
   "source": [
    "a !=b"
   ]
  },
  {
   "cell_type": "markdown",
   "id": "95118faa",
   "metadata": {},
   "source": [
    "Truth Table\n",
    "\n",
    "AND \n",
    "\n",
    "a  b   a and b \n",
    "0  0     0\n",
    "0  1     0\n",
    "1  0     0 \n",
    "1  1     1"
   ]
  },
  {
   "cell_type": "code",
   "execution_count": 8,
   "id": "30b5d0ab",
   "metadata": {},
   "outputs": [],
   "source": [
    "a = 0 \n",
    "b = 1 \n",
    "c = 2 \n",
    "d = 3 "
   ]
  },
  {
   "cell_type": "code",
   "execution_count": 9,
   "id": "18f5c7d4",
   "metadata": {},
   "outputs": [
    {
     "data": {
      "text/plain": [
       "0"
      ]
     },
     "execution_count": 9,
     "metadata": {},
     "output_type": "execute_result"
    }
   ],
   "source": [
    "a and b and c and d "
   ]
  },
  {
   "cell_type": "code",
   "execution_count": 10,
   "id": "87015488",
   "metadata": {},
   "outputs": [
    {
     "data": {
      "text/plain": [
       "3"
      ]
     },
     "execution_count": 10,
     "metadata": {},
     "output_type": "execute_result"
    }
   ],
   "source": [
    "b and c and d "
   ]
  },
  {
   "cell_type": "code",
   "execution_count": 11,
   "id": "8af91991",
   "metadata": {},
   "outputs": [
    {
     "data": {
      "text/plain": [
       "0"
      ]
     },
     "execution_count": 11,
     "metadata": {},
     "output_type": "execute_result"
    }
   ],
   "source": [
    "a and b  "
   ]
  },
  {
   "cell_type": "code",
   "execution_count": 12,
   "id": "a51fda13",
   "metadata": {},
   "outputs": [
    {
     "data": {
      "text/plain": [
       "1"
      ]
     },
     "execution_count": 12,
     "metadata": {},
     "output_type": "execute_result"
    }
   ],
   "source": [
    "a or b "
   ]
  },
  {
   "cell_type": "markdown",
   "id": "71618def",
   "metadata": {},
   "source": [
    "# conditional statements "
   ]
  },
  {
   "cell_type": "markdown",
   "id": "6cff17c5",
   "metadata": {},
   "source": [
    "` Syntax:  `\n",
    "    \n",
    "    ` if condition:`\n",
    "        \n",
    "        `do_something `\n",
    "        \n",
    "    ` elif condition: `\n",
    "         \n",
    "        ` do_something_else `\n",
    "        \n",
    "    ` else: `\n",
    "        \n",
    "        ` rest in peace ` "
   ]
  },
  {
   "cell_type": "code",
   "execution_count": 14,
   "id": "4f8792c3",
   "metadata": {},
   "outputs": [
    {
     "name": "stdout",
     "output_type": "stream",
     "text": [
      "Smaller\n"
     ]
    }
   ],
   "source": [
    "a = 10 \n",
    "b = 20 \n",
    "if a > b:\n",
    "    print(' Greater')\n",
    "else:\n",
    "    print('Smaller')\n"
   ]
  },
  {
   "cell_type": "code",
   "execution_count": 15,
   "id": "8e1d4a73",
   "metadata": {},
   "outputs": [
    {
     "data": {
      "text/plain": [
       "<bound method Kernel.raw_input of <ipykernel.ipkernel.IPythonKernel object at 0x000002B4E687E6D0>>"
      ]
     },
     "execution_count": 15,
     "metadata": {},
     "output_type": "execute_result"
    }
   ],
   "source": [
    "input"
   ]
  },
  {
   "cell_type": "code",
   "execution_count": 16,
   "id": "821aeedf",
   "metadata": {},
   "outputs": [
    {
     "name": "stdout",
     "output_type": "stream",
     "text": [
      "Enter a number 10\n"
     ]
    },
    {
     "data": {
      "text/plain": [
       "'10'"
      ]
     },
     "execution_count": 16,
     "metadata": {},
     "output_type": "execute_result"
    }
   ],
   "source": [
    "input(\"Enter a number \")"
   ]
  },
  {
   "cell_type": "code",
   "execution_count": 17,
   "id": "d9a3a97b",
   "metadata": {},
   "outputs": [
    {
     "name": "stdout",
     "output_type": "stream",
     "text": [
      "Enter a number 10\n"
     ]
    }
   ],
   "source": [
    "num = input(\"Enter a number \")"
   ]
  },
  {
   "cell_type": "code",
   "execution_count": 18,
   "id": "56b5731e",
   "metadata": {},
   "outputs": [
    {
     "data": {
      "text/plain": [
       "('10', str)"
      ]
     },
     "execution_count": 18,
     "metadata": {},
     "output_type": "execute_result"
    }
   ],
   "source": [
    "num, type(num)"
   ]
  },
  {
   "cell_type": "code",
   "execution_count": 19,
   "id": "f3c5c6f8",
   "metadata": {},
   "outputs": [
    {
     "name": "stdout",
     "output_type": "stream",
     "text": [
      "Enter a number 10\n"
     ]
    }
   ],
   "source": [
    "num = int(input(\"Enter a number \"))"
   ]
  },
  {
   "cell_type": "code",
   "execution_count": 20,
   "id": "8ef73565",
   "metadata": {},
   "outputs": [
    {
     "data": {
      "text/plain": [
       "(10, int)"
      ]
     },
     "execution_count": 20,
     "metadata": {},
     "output_type": "execute_result"
    }
   ],
   "source": [
    "num, type(num)"
   ]
  },
  {
   "cell_type": "code",
   "execution_count": 2,
   "id": "bba6e08f",
   "metadata": {},
   "outputs": [
    {
     "name": "stdout",
     "output_type": "stream",
     "text": [
      "Enter a number 10\n",
      "Enter a number 20\n",
      "10 i am not a boolean 20 = True\n"
     ]
    }
   ],
   "source": [
    "num_one = int(input(\"Enter a number \"))\n",
    "num_two = int(input(\"Enter a number \"))\n",
    "if num_one > num_two:\n",
    "    print('{} hello {} = {}'.format(num_one,num_two,num_one > num_two))\n",
    "else:\n",
    "    print('{} i am not a boolean {} = {}'.format(num_one,num_two,num_one < num_two))\n",
    "    "
   ]
  },
  {
   "cell_type": "code",
   "execution_count": 5,
   "id": "a62d051f",
   "metadata": {},
   "outputs": [
    {
     "name": "stdout",
     "output_type": "stream",
     "text": [
      "100 i am not a boolean 200 = 300\n"
     ]
    }
   ],
   "source": [
    " print('{0} i am not a boolean {1} = {2}'.format(100,200,300))"
   ]
  },
  {
   "cell_type": "code",
   "execution_count": 6,
   "id": "431e40af",
   "metadata": {},
   "outputs": [
    {
     "name": "stdout",
     "output_type": "stream",
     "text": [
      "200 i am not a boolean 100 = 300\n"
     ]
    }
   ],
   "source": [
    " print('{1} i am not a boolean {0} = {2}'.format(100,200,300))"
   ]
  },
  {
   "cell_type": "code",
   "execution_count": 7,
   "id": "46e3020b",
   "metadata": {},
   "outputs": [
    {
     "ename": "ValueError",
     "evalue": "cannot switch from manual field specification to automatic field numbering",
     "output_type": "error",
     "traceback": [
      "\u001b[1;31m---------------------------------------------------------------------------\u001b[0m",
      "\u001b[1;31mValueError\u001b[0m                                Traceback (most recent call last)",
      "\u001b[1;32m<ipython-input-7-277825086583>\u001b[0m in \u001b[0;36m<module>\u001b[1;34m\u001b[0m\n\u001b[1;32m----> 1\u001b[1;33m \u001b[0mprint\u001b[0m\u001b[1;33m(\u001b[0m\u001b[1;34m'{1} i am not a boolean {0} = {}'\u001b[0m\u001b[1;33m.\u001b[0m\u001b[0mformat\u001b[0m\u001b[1;33m(\u001b[0m\u001b[1;36m100\u001b[0m\u001b[1;33m,\u001b[0m\u001b[1;36m200\u001b[0m\u001b[1;33m,\u001b[0m\u001b[1;36m300\u001b[0m\u001b[1;33m)\u001b[0m\u001b[1;33m)\u001b[0m\u001b[1;33m\u001b[0m\u001b[1;33m\u001b[0m\u001b[0m\n\u001b[0m",
      "\u001b[1;31mValueError\u001b[0m: cannot switch from manual field specification to automatic field numbering"
     ]
    }
   ],
   "source": [
    " print('{1} i am not a boolean {0} = {}'.format(100,200,300))"
   ]
  },
  {
   "cell_type": "code",
   "execution_count": 8,
   "id": "c403019b",
   "metadata": {},
   "outputs": [
    {
     "name": "stdout",
     "output_type": "stream",
     "text": [
      " Elif yes\n"
     ]
    }
   ],
   "source": [
    "a = 100\n",
    "b = 100\n",
    "if a > b:\n",
    "    print('Yes')\n",
    "elif a >=b:\n",
    "    print(\" Elif yes\")\n",
    "else:\n",
    "    print('Else part')\n",
    "    "
   ]
  },
  {
   "cell_type": "code",
   "execution_count": 9,
   "id": "98d5dbc8",
   "metadata": {},
   "outputs": [
    {
     "name": "stdout",
     "output_type": "stream",
     "text": [
      "Else part\n"
     ]
    }
   ],
   "source": [
    "a = 100\n",
    "b = 120\n",
    "if a > b:\n",
    "    print('Yes')\n",
    "elif a >=b:\n",
    "    print(\" Elif yes\")\n",
    "else:\n",
    "    print('Else part')\n",
    "    "
   ]
  },
  {
   "cell_type": "code",
   "execution_count": null,
   "id": "4cb49dce",
   "metadata": {},
   "outputs": [],
   "source": []
  }
 ],
 "metadata": {
  "kernelspec": {
   "display_name": "Python 3",
   "language": "python",
   "name": "python3"
  },
  "language_info": {
   "codemirror_mode": {
    "name": "ipython",
    "version": 3
   },
   "file_extension": ".py",
   "mimetype": "text/x-python",
   "name": "python",
   "nbconvert_exporter": "python",
   "pygments_lexer": "ipython3",
   "version": "3.9.6"
  }
 },
 "nbformat": 4,
 "nbformat_minor": 5
}
